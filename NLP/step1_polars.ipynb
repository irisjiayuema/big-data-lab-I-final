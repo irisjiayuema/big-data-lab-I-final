{
 "cells": [
  {
   "cell_type": "code",
   "execution_count": 1,
   "metadata": {},
   "outputs": [],
   "source": [
    "from sentence_transformers import SentenceTransformer\n",
    "import polars as pl\n",
    "\n",
    "# this function encodes the given text using the sentence transformer and truncates/pads as necessary\n",
    "def encode(text):\n",
    "    enc = [x.item() for x in list(tokenizer.encode(text))]\n",
    "    return enc\n",
    "    \n",
    "inputs = 'jobs_all_filtered.csv'\n",
    "output = 'processed.parquet'\n",
    "\n",
    "tokenizer = SentenceTransformer(\"msmarco-distilbert-dot-v5\")"
   ]
  },
  {
   "cell_type": "code",
   "execution_count": 2,
   "metadata": {},
   "outputs": [],
   "source": [
    "# read in data\n",
    "df = pl.scan_csv(inputs)\n",
    "df = df.drop_nulls(subset='description')"
   ]
  },
  {
   "cell_type": "code",
   "execution_count": 3,
   "metadata": {},
   "outputs": [
    {
     "data": {
      "text/html": [
       "<div><style>\n",
       ".dataframe > thead > tr,\n",
       ".dataframe > tbody > tr {\n",
       "  text-align: right;\n",
       "  white-space: pre-wrap;\n",
       "}\n",
       "</style>\n",
       "<small>shape: (12_839, 46)</small><table border=\"1\" class=\"dataframe\"><thead><tr><th>job_id</th><th>company_id</th><th>title</th><th>description</th><th>max_salary</th><th>med_salary</th><th>min_salary</th><th>pay_period</th><th>formatted_work_type</th><th>location</th><th>state_abbr</th><th>applies</th><th>original_listed_time</th><th>remote_allowed</th><th>views</th><th>job_posting_url</th><th>application_url</th><th>application_type</th><th>expiry</th><th>closed_time</th><th>formatted_experience_level</th><th>skills_desc</th><th>listed_time</th><th>posting_domain</th><th>sponsored</th><th>work_type</th><th>currency</th><th>compensation_type</th><th>scraped</th><th>industry_id</th><th>industry_name</th><th>skill_abr</th><th>skill_name</th><th>company_name</th><th>company_description</th><th>company_size</th><th>company_state</th><th>company_country</th><th>company_city</th><th>company_zipcode</th><th>company_address</th><th>company_url</th><th>company_industry</th><th>company_employee_count</th><th>company_follower_count</th><th>company_time_recorded</th></tr><tr><td>i64</td><td>i64</td><td>str</td><td>str</td><td>f64</td><td>f64</td><td>f64</td><td>str</td><td>str</td><td>str</td><td>str</td><td>i64</td><td>f64</td><td>i64</td><td>i64</td><td>str</td><td>str</td><td>str</td><td>f64</td><td>f64</td><td>str</td><td>str</td><td>f64</td><td>str</td><td>i64</td><td>str</td><td>str</td><td>str</td><td>i64</td><td>i64</td><td>str</td><td>str</td><td>str</td><td>str</td><td>str</td><td>i64</td><td>str</td><td>str</td><td>str</td><td>str</td><td>str</td><td>str</td><td>str</td><td>i64</td><td>i64</td><td>i64</td></tr></thead><tbody><tr><td>3757744847</td><td>3594609</td><td>&quot;Virtual Assita…</td><td>&quot;Company Descri…</td><td>null</td><td>6000.0</td><td>null</td><td>&quot;MONTHLY&quot;</td><td>&quot;Full-time&quot;</td><td>&quot;United States&quot;</td><td>&quot;US&quot;</td><td>24</td><td>1.7000e12</td><td>1</td><td>87</td><td>&quot;https://www.li…</td><td>null</td><td>&quot;ComplexOnsiteA…</td><td>1.7000e12</td><td>null</td><td>null</td><td>null</td><td>1.7000e12</td><td>null</td><td>0</td><td>&quot;FULL_TIME&quot;</td><td>&quot;USD&quot;</td><td>&quot;BASE_SALARY&quot;</td><td>1699061274</td><td>80</td><td>&quot;Advertising Se…</td><td>&quot;ADM&quot;</td><td>&quot;Administrative…</td><td>&quot;Transformed De…</td><td>&quot;Transformed De…</td><td>null</td><td>&quot;California&quot;</td><td>&quot;US&quot;</td><td>&quot;Vista&quot;</td><td>&quot;92081&quot;</td><td>&quot;0&quot;</td><td>&quot;https://www.li…</td><td>&quot;Advertising Se…</td><td>3</td><td>46</td><td>1699061274</td></tr><tr><td>3748851001</td><td>2662</td><td>&quot;Administrative…</td><td>&quot;JOB TITLE: Adm…</td><td>7828.0</td><td>6710.0</td><td>5592.0</td><td>&quot;YEARLY&quot;</td><td>&quot;Full-time&quot;</td><td>&quot;San Francisco,…</td><td>&quot;CA&quot;</td><td>2</td><td>1.7000e12</td><td>null</td><td>17</td><td>&quot;https://www.li…</td><td>&quot;https://career…</td><td>&quot;OffsiteApply&quot;</td><td>1.7000e12</td><td>null</td><td>&quot;Entry level&quot;</td><td>null</td><td>1.7000e12</td><td>null</td><td>0</td><td>&quot;FULL_TIME&quot;</td><td>&quot;USD&quot;</td><td>&quot;BASE_SALARY&quot;</td><td>1698994437</td><td>75</td><td>&quot;Government Adm…</td><td>&quot;ADM&quot;</td><td>&quot;Administrative…</td><td>&quot;Judicial Counc…</td><td>&quot;The Judicial C…</td><td>4</td><td>&quot;California&quot;</td><td>&quot;US&quot;</td><td>&quot;San Francisco&quot;</td><td>&quot;0&quot;</td><td>&quot;455 Golden Gat…</td><td>&quot;https://www.li…</td><td>&quot;Administration…</td><td>798</td><td>7277</td><td>1698994437</td></tr><tr><td>3755585509</td><td>17902</td><td>&quot;Assembler - 1s…</td><td>&quot;About JLG, An …</td><td>null</td><td>10000.0</td><td>null</td><td>&quot;YEARLY&quot;</td><td>&quot;Full-time&quot;</td><td>&quot;Greencastle, P…</td><td>&quot;PA&quot;</td><td>null</td><td>1.7000e12</td><td>null</td><td>1</td><td>&quot;https://www.li…</td><td>&quot;https://oshkos…</td><td>&quot;OffsiteApply&quot;</td><td>1.7000e12</td><td>null</td><td>&quot;Entry level&quot;</td><td>null</td><td>1.7000e12</td><td>&quot;oshkoshcorpora…</td><td>0</td><td>&quot;FULL_TIME&quot;</td><td>&quot;USD&quot;</td><td>&quot;BASE_SALARY&quot;</td><td>1699079710</td><td>55</td><td>&quot;Machinery Manu…</td><td>&quot;MGMT&quot;</td><td>&quot;Management&quot;</td><td>&quot;JLG Industries…</td><td>&quot;Official JLG I…</td><td>5</td><td>&quot;PA&quot;</td><td>&quot;US&quot;</td><td>&quot;McConnellsburg…</td><td>&quot;17233-9533&quot;</td><td>&quot;1 JLG Drive&quot;</td><td>&quot;https://www.li…</td><td>&quot;Machinery&quot;</td><td>2377</td><td>81821</td><td>1692849011</td></tr><tr><td>3749373359</td><td>207350</td><td>&quot;Aircraft Inter…</td><td>&quot;Aircraft Inter…</td><td>null</td><td>10000.0</td><td>null</td><td>&quot;YEARLY&quot;</td><td>&quot;Full-time&quot;</td><td>&quot;Oklahoma City,…</td><td>&quot;OK&quot;</td><td>null</td><td>1.7000e12</td><td>null</td><td>1</td><td>&quot;https://www.li…</td><td>null</td><td>&quot;SimpleOnsiteAp…</td><td>1.7000e12</td><td>null</td><td>&quot;Entry level&quot;</td><td>null</td><td>1.7000e12</td><td>&quot;aarcorp.taleo.…</td><td>1</td><td>&quot;FULL_TIME&quot;</td><td>&quot;USD&quot;</td><td>&quot;BASE_SALARY&quot;</td><td>1699060460</td><td>94</td><td>&quot;Airlines and A…</td><td>&quot;ENG&quot;</td><td>&quot;Engineering&quot;</td><td>&quot;AAR&quot;</td><td>&quot;AAR is an inde…</td><td>6</td><td>&quot;IL&quot;</td><td>&quot;US&quot;</td><td>&quot;Wood Dale&quot;</td><td>&quot;60191&quot;</td><td>&quot;1100 North Woo…</td><td>&quot;https://www.li…</td><td>&quot;Airlines and A…</td><td>4622</td><td>56807</td><td>1699052209</td></tr><tr><td>3749371543</td><td>207350</td><td>&quot;Avionics Crew …</td><td>&quot;Avionics Crew …</td><td>null</td><td>10000.0</td><td>null</td><td>&quot;YEARLY&quot;</td><td>&quot;Full-time&quot;</td><td>&quot;Oklahoma City,…</td><td>&quot;OK&quot;</td><td>null</td><td>1.7000e12</td><td>null</td><td>null</td><td>&quot;https://www.li…</td><td>null</td><td>&quot;SimpleOnsiteAp…</td><td>1.7000e12</td><td>null</td><td>&quot;Mid-Senior lev…</td><td>null</td><td>1.7000e12</td><td>&quot;aarcorp.taleo.…</td><td>0</td><td>&quot;FULL_TIME&quot;</td><td>&quot;USD&quot;</td><td>&quot;BASE_SALARY&quot;</td><td>1699083491</td><td>94</td><td>&quot;Airlines and A…</td><td>&quot;MGMT&quot;</td><td>&quot;Management&quot;</td><td>&quot;AAR&quot;</td><td>&quot;AAR is an inde…</td><td>6</td><td>&quot;IL&quot;</td><td>&quot;US&quot;</td><td>&quot;Wood Dale&quot;</td><td>&quot;60191&quot;</td><td>&quot;1100 North Woo…</td><td>&quot;https://www.li…</td><td>&quot;Airlines and A…</td><td>4622</td><td>56807</td><td>1699052209</td></tr><tr><td>&hellip;</td><td>&hellip;</td><td>&hellip;</td><td>&hellip;</td><td>&hellip;</td><td>&hellip;</td><td>&hellip;</td><td>&hellip;</td><td>&hellip;</td><td>&hellip;</td><td>&hellip;</td><td>&hellip;</td><td>&hellip;</td><td>&hellip;</td><td>&hellip;</td><td>&hellip;</td><td>&hellip;</td><td>&hellip;</td><td>&hellip;</td><td>&hellip;</td><td>&hellip;</td><td>&hellip;</td><td>&hellip;</td><td>&hellip;</td><td>&hellip;</td><td>&hellip;</td><td>&hellip;</td><td>&hellip;</td><td>&hellip;</td><td>&hellip;</td><td>&hellip;</td><td>&hellip;</td><td>&hellip;</td><td>&hellip;</td><td>&hellip;</td><td>&hellip;</td><td>&hellip;</td><td>&hellip;</td><td>&hellip;</td><td>&hellip;</td><td>&hellip;</td><td>&hellip;</td><td>&hellip;</td><td>&hellip;</td><td>&hellip;</td><td>&hellip;</td></tr><tr><td>3697353978</td><td>9308035</td><td>&quot;Distinguished …</td><td>&quot;Crossover is t…</td><td>null</td><td>800000.0</td><td>null</td><td>&quot;YEARLY&quot;</td><td>&quot;Full-time&quot;</td><td>&quot;Phoenix, AZ&quot;</td><td>&quot;AZ&quot;</td><td>6</td><td>1.6900e12</td><td>1</td><td>45</td><td>&quot;https://www.li…</td><td>&quot;https://www.cr…</td><td>&quot;ComplexOnsiteA…</td><td>1.7000e12</td><td>null</td><td>&quot;Executive&quot;</td><td>null</td><td>1.6900e12</td><td>&quot;www.crossover.…</td><td>1</td><td>&quot;FULL_TIME&quot;</td><td>&quot;USD&quot;</td><td>&quot;BASE_SALARY&quot;</td><td>1</td><td>4</td><td>&quot;Software Devel…</td><td>&quot;ART&quot;</td><td>&quot;Art/Creative&quot;</td><td>&quot;Crossover &quot;</td><td>&quot;Crossover’s mi…</td><td>5</td><td>&quot;TX&quot;</td><td>&quot;US&quot;</td><td>&quot;Austin&quot;</td><td>&quot;73301&quot;</td><td>&quot;Remote Blvd.&quot;</td><td>&quot;https://www.li…</td><td>&quot;Information Te…</td><td>2480</td><td>6308800</td><td>1692845076</td></tr><tr><td>3701319448</td><td>35664005</td><td>&quot;Head of Sales …</td><td>&quot;UP Talent Grou…</td><td>null</td><td>800000.0</td><td>null</td><td>&quot;YEARLY&quot;</td><td>&quot;Full-time&quot;</td><td>&quot;San Francisco …</td><td>&quot;CA&quot;</td><td>null</td><td>1.6900e12</td><td>null</td><td>172</td><td>&quot;https://www.li…</td><td>null</td><td>&quot;ComplexOnsiteA…</td><td>1.7100e12</td><td>1.6900e12</td><td>null</td><td>null</td><td>1.6900e12</td><td>null</td><td>1</td><td>&quot;FULL_TIME&quot;</td><td>&quot;USD&quot;</td><td>&quot;BASE_SALARY&quot;</td><td>1</td><td>14</td><td>&quot;Hospitals and …</td><td>&quot;SALE&quot;</td><td>&quot;Sales&quot;</td><td>&quot;UP Talent Grou…</td><td>&quot;Full-Service R…</td><td>null</td><td>&quot;New Jersey&quot;</td><td>&quot;US&quot;</td><td>&quot;Princeton&quot;</td><td>&quot;8540&quot;</td><td>&quot;213 Carnegie C…</td><td>&quot;https://www.li…</td><td>&quot;Staffing &amp; Rec…</td><td>8</td><td>9150</td><td>1692865325</td></tr><tr><td>3701326157</td><td>106584</td><td>&quot;Tech Lead Mana…</td><td>&quot;Tech Lead Mana…</td><td>1e6</td><td>875000.0</td><td>750000.0</td><td>&quot;YEARLY&quot;</td><td>&quot;Full-time&quot;</td><td>&quot;Palo Alto, CA&quot;</td><td>&quot;CA&quot;</td><td>48</td><td>1.6900e12</td><td>1</td><td>166</td><td>&quot;https://www.li…</td><td>null</td><td>&quot;ComplexOnsiteA…</td><td>1.7000e12</td><td>null</td><td>&quot;Mid-Senior lev…</td><td>null</td><td>1.6900e12</td><td>null</td><td>1</td><td>&quot;FULL_TIME&quot;</td><td>&quot;USD&quot;</td><td>&quot;BASE_SALARY&quot;</td><td>1</td><td>43</td><td>&quot;Financial Serv…</td><td>&quot;FIN&quot;</td><td>&quot;Finance&quot;</td><td>&quot;Selby Jennings…</td><td>&quot;From Investmen…</td><td>5</td><td>&quot;0&quot;</td><td>&quot;GB&quot;</td><td>&quot;London&quot;</td><td>&quot;EC3V 9AH&quot;</td><td>&quot;21 Lombard Str…</td><td>&quot;https://www.li…</td><td>&quot;Information Te…</td><td>719</td><td>486913</td><td>1692842748</td></tr><tr><td>3699056923</td><td>13094</td><td>&quot;Criminal Court…</td><td>&quot;Position Descr…</td><td>null</td><td>998426.0</td><td>null</td><td>&quot;YEARLY&quot;</td><td>&quot;Full-time&quot;</td><td>&quot;Houston, TX&quot;</td><td>&quot;TX&quot;</td><td>17</td><td>1.6900e12</td><td>null</td><td>84</td><td>&quot;https://www.li…</td><td>&quot;https://www.go…</td><td>&quot;OffsiteApply&quot;</td><td>1.7000e12</td><td>null</td><td>&quot;Entry level&quot;</td><td>null</td><td>1.6900e12</td><td>&quot;www.government…</td><td>1</td><td>&quot;FULL_TIME&quot;</td><td>&quot;USD&quot;</td><td>&quot;BASE_SALARY&quot;</td><td>1</td><td>75</td><td>&quot;Government Adm…</td><td>&quot;LGL&quot;</td><td>&quot;Legal&quot;</td><td>&quot;Harris County&quot;</td><td>&quot;Harris County …</td><td>7</td><td>&quot;0&quot;</td><td>&quot;US&quot;</td><td>&quot;0&quot;</td><td>&quot;0&quot;</td><td>&quot;0&quot;</td><td>&quot;https://www.li…</td><td>&quot;Government Adm…</td><td>5594</td><td>29131</td><td>1692855364</td></tr><tr><td>3694103424</td><td>92699700</td><td>&quot;Quantitative D…</td><td>&quot;Goliath Partne…</td><td>1.3e6</td><td>1.05e6</td><td>800000.0</td><td>&quot;YEARLY&quot;</td><td>&quot;Full-time&quot;</td><td>&quot;Greater Chicag…</td><td>&quot;IL&quot;</td><td>14</td><td>1.6900e12</td><td>null</td><td>49</td><td>&quot;https://www.li…</td><td>null</td><td>&quot;ComplexOnsiteA…</td><td>1.7000e12</td><td>null</td><td>&quot;Mid-Senior lev…</td><td>null</td><td>1.6900e12</td><td>null</td><td>0</td><td>&quot;FULL_TIME&quot;</td><td>&quot;USD&quot;</td><td>&quot;BASE_SALARY&quot;</td><td>1</td><td>129</td><td>&quot;Capital Market…</td><td>&quot;FIN&quot;</td><td>&quot;Finance&quot;</td><td>&quot;Goliath Partne…</td><td>&quot;Driving innova…</td><td>null</td><td>&quot;Florida&quot;</td><td>&quot;US&quot;</td><td>&quot;Miami&quot;</td><td>&quot;0&quot;</td><td>&quot;0&quot;</td><td>&quot;https://www.li…</td><td>&quot;Staffing &amp; Rec…</td><td>4</td><td>9187</td><td>1692842269</td></tr></tbody></table></div>"
      ],
      "text/plain": [
       "shape: (12_839, 46)\n",
       "┌───────────┬───────────┬───────────┬───────────┬───┬───────────┬───────────┬───────────┬──────────┐\n",
       "│ job_id    ┆ company_i ┆ title     ┆ descripti ┆ … ┆ company_i ┆ company_e ┆ company_f ┆ company_ │\n",
       "│ ---       ┆ d         ┆ ---       ┆ on        ┆   ┆ ndustry   ┆ mployee_c ┆ ollower_c ┆ time_rec │\n",
       "│ i64       ┆ ---       ┆ str       ┆ ---       ┆   ┆ ---       ┆ ount      ┆ ount      ┆ orded    │\n",
       "│           ┆ i64       ┆           ┆ str       ┆   ┆ str       ┆ ---       ┆ ---       ┆ ---      │\n",
       "│           ┆           ┆           ┆           ┆   ┆           ┆ i64       ┆ i64       ┆ i64      │\n",
       "╞═══════════╪═══════════╪═══════════╪═══════════╪═══╪═══════════╪═══════════╪═══════════╪══════════╡\n",
       "│ 375774484 ┆ 3594609   ┆ Virtual   ┆ Company   ┆ … ┆ Advertisi ┆ 3         ┆ 46        ┆ 16990612 │\n",
       "│ 7         ┆           ┆ Assitant  ┆ Descripti ┆   ┆ ng        ┆           ┆           ┆ 74       │\n",
       "│           ┆           ┆           ┆ on        ┆   ┆ Services  ┆           ┆           ┆          │\n",
       "│           ┆           ┆           ┆ Transform ┆   ┆           ┆           ┆           ┆          │\n",
       "│           ┆           ┆           ┆ ed …      ┆   ┆           ┆           ┆           ┆          │\n",
       "│ 374885100 ┆ 2662      ┆ Administr ┆ JOB       ┆ … ┆ Administr ┆ 798       ┆ 7277      ┆ 16989944 │\n",
       "│ 1         ┆           ┆ ative Coo ┆ TITLE:    ┆   ┆ ation of  ┆           ┆           ┆ 37       │\n",
       "│           ┆           ┆ rdinator  ┆ Administr ┆   ┆ Justice   ┆           ┆           ┆          │\n",
       "│           ┆           ┆ (JO#6…    ┆ ative     ┆   ┆           ┆           ┆           ┆          │\n",
       "│           ┆           ┆           ┆ Coordi…   ┆   ┆           ┆           ┆           ┆          │\n",
       "│ 375558550 ┆ 17902     ┆ Assembler ┆ About     ┆ … ┆ Machinery ┆ 2377      ┆ 81821     ┆ 16928490 │\n",
       "│ 9         ┆           ┆ - 1st     ┆ JLG, An   ┆   ┆           ┆           ┆           ┆ 11       │\n",
       "│           ┆           ┆ Shift     ┆ Oshkosh   ┆   ┆           ┆           ┆           ┆          │\n",
       "│           ┆           ┆           ┆ Company   ┆   ┆           ┆           ┆           ┆          │\n",
       "│           ┆           ┆           ┆           ┆   ┆           ┆           ┆           ┆          │\n",
       "│           ┆           ┆           ┆ J…        ┆   ┆           ┆           ┆           ┆          │\n",
       "│ 374937335 ┆ 207350    ┆ Aircraft  ┆ Aircraft  ┆ … ┆ Airlines  ┆ 4622      ┆ 56807     ┆ 16990522 │\n",
       "│ 9         ┆           ┆ Interior  ┆ Interior  ┆   ┆ and       ┆           ┆           ┆ 09       │\n",
       "│           ┆           ┆ Tech III  ┆ Tech III  ┆   ┆ Aviation  ┆           ┆           ┆          │\n",
       "│           ┆           ┆           ┆ - 151…    ┆   ┆           ┆           ┆           ┆          │\n",
       "│ 374937154 ┆ 207350    ┆ Avionics  ┆ Avionics  ┆ … ┆ Airlines  ┆ 4622      ┆ 56807     ┆ 16990522 │\n",
       "│ 3         ┆           ┆ Crew      ┆ Crew      ┆   ┆ and       ┆           ┆           ┆ 09       │\n",
       "│           ┆           ┆ Alternate ┆ Alternate ┆   ┆ Aviation  ┆           ┆           ┆          │\n",
       "│           ┆           ┆ Lead      ┆ Lead - 1… ┆   ┆           ┆           ┆           ┆          │\n",
       "│ …         ┆ …         ┆ …         ┆ …         ┆ … ┆ …         ┆ …         ┆ …         ┆ …        │\n",
       "│ 369735397 ┆ 9308035   ┆ Distingui ┆ Crossover ┆ … ┆ Informati ┆ 2480      ┆ 6308800   ┆ 16928450 │\n",
       "│ 8         ┆           ┆ shed      ┆ is the    ┆   ┆ on Techno ┆           ┆           ┆ 76       │\n",
       "│           ┆           ┆ Engineer, ┆ world's   ┆   ┆ logy &    ┆           ┆           ┆          │\n",
       "│           ┆           ┆ Trilogy … ┆ #1 sour…  ┆   ┆ Service…  ┆           ┆           ┆          │\n",
       "│ 370131944 ┆ 35664005  ┆ Head of   ┆ UP Talent ┆ … ┆ Staffing  ┆ 8         ┆ 9150      ┆ 16928653 │\n",
       "│ 8         ┆           ┆ Sales &   ┆ Group is  ┆   ┆ & Recruit ┆           ┆           ┆ 25       │\n",
       "│           ┆           ┆ Marketing ┆ partnerin ┆   ┆ ing       ┆           ┆           ┆          │\n",
       "│           ┆           ┆ (Healt…   ┆ g di…     ┆   ┆           ┆           ┆           ┆          │\n",
       "│ 370132615 ┆ 106584    ┆ Tech Lead ┆ Tech Lead ┆ … ┆ Informati ┆ 719       ┆ 486913    ┆ 16928427 │\n",
       "│ 7         ┆           ┆ Manager   ┆ Manager   ┆   ┆ on Techno ┆           ┆           ┆ 48       │\n",
       "│           ┆           ┆ (L6-L8) | ┆ (L6-L8) | ┆   ┆ logy &    ┆           ┆           ┆          │\n",
       "│           ┆           ┆ Disr…     ┆ Disr…     ┆   ┆ Service…  ┆           ┆           ┆          │\n",
       "│ 369905692 ┆ 13094     ┆ Criminal  ┆ Position  ┆ … ┆ Governmen ┆ 5594      ┆ 29131     ┆ 16928553 │\n",
       "│ 3         ┆           ┆ Court     ┆ Descripti ┆   ┆ t Adminis ┆           ┆           ┆ 64       │\n",
       "│           ┆           ┆ Clerk     ┆ on        ┆   ┆ tration   ┆           ┆           ┆          │\n",
       "│           ┆           ┆           ┆ Under     ┆   ┆           ┆           ┆           ┆          │\n",
       "│           ┆           ┆           ┆ gener…    ┆   ┆           ┆           ┆           ┆          │\n",
       "│ 369410342 ┆ 92699700  ┆ Quantitat ┆ Goliath   ┆ … ┆ Staffing  ┆ 4         ┆ 9187      ┆ 16928422 │\n",
       "│ 4         ┆           ┆ ive       ┆ Partners  ┆   ┆ & Recruit ┆           ┆           ┆ 69       │\n",
       "│           ┆           ┆ Developer ┆ has a req ┆   ┆ ing       ┆           ┆           ┆          │\n",
       "│           ┆           ┆           ┆ uireme…   ┆   ┆           ┆           ┆           ┆          │\n",
       "└───────────┴───────────┴───────────┴───────────┴───┴───────────┴───────────┴───────────┴──────────┘"
      ]
     },
     "execution_count": 3,
     "metadata": {},
     "output_type": "execute_result"
    }
   ],
   "source": [
    "df.collect()"
   ]
  },
  {
   "cell_type": "code",
   "execution_count": 4,
   "metadata": {},
   "outputs": [],
   "source": [
    "new_df = df.with_columns(\n",
    "    [pl.col(\"description\").map_elements(encode, return_dtype=pl.List(pl.Float64)).alias('Encoding')]\n",
    ")"
   ]
  },
  {
   "cell_type": "code",
   "execution_count": 5,
   "metadata": {},
   "outputs": [
    {
     "data": {
      "text/html": [
       "<div><style>\n",
       ".dataframe > thead > tr,\n",
       ".dataframe > tbody > tr {\n",
       "  text-align: right;\n",
       "  white-space: pre-wrap;\n",
       "}\n",
       "</style>\n",
       "<small>shape: (12_839, 47)</small><table border=\"1\" class=\"dataframe\"><thead><tr><th>job_id</th><th>company_id</th><th>title</th><th>description</th><th>max_salary</th><th>med_salary</th><th>min_salary</th><th>pay_period</th><th>formatted_work_type</th><th>location</th><th>state_abbr</th><th>applies</th><th>original_listed_time</th><th>remote_allowed</th><th>views</th><th>job_posting_url</th><th>application_url</th><th>application_type</th><th>expiry</th><th>closed_time</th><th>formatted_experience_level</th><th>skills_desc</th><th>listed_time</th><th>posting_domain</th><th>sponsored</th><th>work_type</th><th>currency</th><th>compensation_type</th><th>scraped</th><th>industry_id</th><th>industry_name</th><th>skill_abr</th><th>skill_name</th><th>company_name</th><th>company_description</th><th>company_size</th><th>company_state</th><th>company_country</th><th>company_city</th><th>company_zipcode</th><th>company_address</th><th>company_url</th><th>company_industry</th><th>company_employee_count</th><th>company_follower_count</th><th>company_time_recorded</th><th>Encoding</th></tr><tr><td>i64</td><td>i64</td><td>str</td><td>str</td><td>f64</td><td>f64</td><td>f64</td><td>str</td><td>str</td><td>str</td><td>str</td><td>i64</td><td>f64</td><td>i64</td><td>i64</td><td>str</td><td>str</td><td>str</td><td>f64</td><td>f64</td><td>str</td><td>str</td><td>f64</td><td>str</td><td>i64</td><td>str</td><td>str</td><td>str</td><td>i64</td><td>i64</td><td>str</td><td>str</td><td>str</td><td>str</td><td>str</td><td>i64</td><td>str</td><td>str</td><td>str</td><td>str</td><td>str</td><td>str</td><td>str</td><td>i64</td><td>i64</td><td>i64</td><td>list[f64]</td></tr></thead><tbody><tr><td>3757744847</td><td>3594609</td><td>&quot;Virtual Assita…</td><td>&quot;Company Descri…</td><td>null</td><td>6000.0</td><td>null</td><td>&quot;MONTHLY&quot;</td><td>&quot;Full-time&quot;</td><td>&quot;United States&quot;</td><td>&quot;US&quot;</td><td>24</td><td>1.7000e12</td><td>1</td><td>87</td><td>&quot;https://www.li…</td><td>null</td><td>&quot;ComplexOnsiteA…</td><td>1.7000e12</td><td>null</td><td>null</td><td>null</td><td>1.7000e12</td><td>null</td><td>0</td><td>&quot;FULL_TIME&quot;</td><td>&quot;USD&quot;</td><td>&quot;BASE_SALARY&quot;</td><td>1699061274</td><td>80</td><td>&quot;Advertising Se…</td><td>&quot;ADM&quot;</td><td>&quot;Administrative…</td><td>&quot;Transformed De…</td><td>&quot;Transformed De…</td><td>null</td><td>&quot;California&quot;</td><td>&quot;US&quot;</td><td>&quot;Vista&quot;</td><td>&quot;92081&quot;</td><td>&quot;0&quot;</td><td>&quot;https://www.li…</td><td>&quot;Advertising Se…</td><td>3</td><td>46</td><td>1699061274</td><td>[-0.073653, 0.040756, … -0.102961]</td></tr><tr><td>3748851001</td><td>2662</td><td>&quot;Administrative…</td><td>&quot;JOB TITLE: Adm…</td><td>7828.0</td><td>6710.0</td><td>5592.0</td><td>&quot;YEARLY&quot;</td><td>&quot;Full-time&quot;</td><td>&quot;San Francisco,…</td><td>&quot;CA&quot;</td><td>2</td><td>1.7000e12</td><td>null</td><td>17</td><td>&quot;https://www.li…</td><td>&quot;https://career…</td><td>&quot;OffsiteApply&quot;</td><td>1.7000e12</td><td>null</td><td>&quot;Entry level&quot;</td><td>null</td><td>1.7000e12</td><td>null</td><td>0</td><td>&quot;FULL_TIME&quot;</td><td>&quot;USD&quot;</td><td>&quot;BASE_SALARY&quot;</td><td>1698994437</td><td>75</td><td>&quot;Government Adm…</td><td>&quot;ADM&quot;</td><td>&quot;Administrative…</td><td>&quot;Judicial Counc…</td><td>&quot;The Judicial C…</td><td>4</td><td>&quot;California&quot;</td><td>&quot;US&quot;</td><td>&quot;San Francisco&quot;</td><td>&quot;0&quot;</td><td>&quot;455 Golden Gat…</td><td>&quot;https://www.li…</td><td>&quot;Administration…</td><td>798</td><td>7277</td><td>1698994437</td><td>[-0.350865, 0.16235, … -0.09886]</td></tr><tr><td>3755585509</td><td>17902</td><td>&quot;Assembler - 1s…</td><td>&quot;About JLG, An …</td><td>null</td><td>10000.0</td><td>null</td><td>&quot;YEARLY&quot;</td><td>&quot;Full-time&quot;</td><td>&quot;Greencastle, P…</td><td>&quot;PA&quot;</td><td>null</td><td>1.7000e12</td><td>null</td><td>1</td><td>&quot;https://www.li…</td><td>&quot;https://oshkos…</td><td>&quot;OffsiteApply&quot;</td><td>1.7000e12</td><td>null</td><td>&quot;Entry level&quot;</td><td>null</td><td>1.7000e12</td><td>&quot;oshkoshcorpora…</td><td>0</td><td>&quot;FULL_TIME&quot;</td><td>&quot;USD&quot;</td><td>&quot;BASE_SALARY&quot;</td><td>1699079710</td><td>55</td><td>&quot;Machinery Manu…</td><td>&quot;MGMT&quot;</td><td>&quot;Management&quot;</td><td>&quot;JLG Industries…</td><td>&quot;Official JLG I…</td><td>5</td><td>&quot;PA&quot;</td><td>&quot;US&quot;</td><td>&quot;McConnellsburg…</td><td>&quot;17233-9533&quot;</td><td>&quot;1 JLG Drive&quot;</td><td>&quot;https://www.li…</td><td>&quot;Machinery&quot;</td><td>2377</td><td>81821</td><td>1692849011</td><td>[0.089385, 0.626603, … -0.480057]</td></tr><tr><td>3749373359</td><td>207350</td><td>&quot;Aircraft Inter…</td><td>&quot;Aircraft Inter…</td><td>null</td><td>10000.0</td><td>null</td><td>&quot;YEARLY&quot;</td><td>&quot;Full-time&quot;</td><td>&quot;Oklahoma City,…</td><td>&quot;OK&quot;</td><td>null</td><td>1.7000e12</td><td>null</td><td>1</td><td>&quot;https://www.li…</td><td>null</td><td>&quot;SimpleOnsiteAp…</td><td>1.7000e12</td><td>null</td><td>&quot;Entry level&quot;</td><td>null</td><td>1.7000e12</td><td>&quot;aarcorp.taleo.…</td><td>1</td><td>&quot;FULL_TIME&quot;</td><td>&quot;USD&quot;</td><td>&quot;BASE_SALARY&quot;</td><td>1699060460</td><td>94</td><td>&quot;Airlines and A…</td><td>&quot;ENG&quot;</td><td>&quot;Engineering&quot;</td><td>&quot;AAR&quot;</td><td>&quot;AAR is an inde…</td><td>6</td><td>&quot;IL&quot;</td><td>&quot;US&quot;</td><td>&quot;Wood Dale&quot;</td><td>&quot;60191&quot;</td><td>&quot;1100 North Woo…</td><td>&quot;https://www.li…</td><td>&quot;Airlines and A…</td><td>4622</td><td>56807</td><td>1699052209</td><td>[-0.463898, 0.581835, … -0.146492]</td></tr><tr><td>3749371543</td><td>207350</td><td>&quot;Avionics Crew …</td><td>&quot;Avionics Crew …</td><td>null</td><td>10000.0</td><td>null</td><td>&quot;YEARLY&quot;</td><td>&quot;Full-time&quot;</td><td>&quot;Oklahoma City,…</td><td>&quot;OK&quot;</td><td>null</td><td>1.7000e12</td><td>null</td><td>null</td><td>&quot;https://www.li…</td><td>null</td><td>&quot;SimpleOnsiteAp…</td><td>1.7000e12</td><td>null</td><td>&quot;Mid-Senior lev…</td><td>null</td><td>1.7000e12</td><td>&quot;aarcorp.taleo.…</td><td>0</td><td>&quot;FULL_TIME&quot;</td><td>&quot;USD&quot;</td><td>&quot;BASE_SALARY&quot;</td><td>1699083491</td><td>94</td><td>&quot;Airlines and A…</td><td>&quot;MGMT&quot;</td><td>&quot;Management&quot;</td><td>&quot;AAR&quot;</td><td>&quot;AAR is an inde…</td><td>6</td><td>&quot;IL&quot;</td><td>&quot;US&quot;</td><td>&quot;Wood Dale&quot;</td><td>&quot;60191&quot;</td><td>&quot;1100 North Woo…</td><td>&quot;https://www.li…</td><td>&quot;Airlines and A…</td><td>4622</td><td>56807</td><td>1699052209</td><td>[-0.228599, 0.753888, … -0.093517]</td></tr><tr><td>&hellip;</td><td>&hellip;</td><td>&hellip;</td><td>&hellip;</td><td>&hellip;</td><td>&hellip;</td><td>&hellip;</td><td>&hellip;</td><td>&hellip;</td><td>&hellip;</td><td>&hellip;</td><td>&hellip;</td><td>&hellip;</td><td>&hellip;</td><td>&hellip;</td><td>&hellip;</td><td>&hellip;</td><td>&hellip;</td><td>&hellip;</td><td>&hellip;</td><td>&hellip;</td><td>&hellip;</td><td>&hellip;</td><td>&hellip;</td><td>&hellip;</td><td>&hellip;</td><td>&hellip;</td><td>&hellip;</td><td>&hellip;</td><td>&hellip;</td><td>&hellip;</td><td>&hellip;</td><td>&hellip;</td><td>&hellip;</td><td>&hellip;</td><td>&hellip;</td><td>&hellip;</td><td>&hellip;</td><td>&hellip;</td><td>&hellip;</td><td>&hellip;</td><td>&hellip;</td><td>&hellip;</td><td>&hellip;</td><td>&hellip;</td><td>&hellip;</td><td>&hellip;</td></tr><tr><td>3697353978</td><td>9308035</td><td>&quot;Distinguished …</td><td>&quot;Crossover is t…</td><td>null</td><td>800000.0</td><td>null</td><td>&quot;YEARLY&quot;</td><td>&quot;Full-time&quot;</td><td>&quot;Phoenix, AZ&quot;</td><td>&quot;AZ&quot;</td><td>6</td><td>1.6900e12</td><td>1</td><td>45</td><td>&quot;https://www.li…</td><td>&quot;https://www.cr…</td><td>&quot;ComplexOnsiteA…</td><td>1.7000e12</td><td>null</td><td>&quot;Executive&quot;</td><td>null</td><td>1.6900e12</td><td>&quot;www.crossover.…</td><td>1</td><td>&quot;FULL_TIME&quot;</td><td>&quot;USD&quot;</td><td>&quot;BASE_SALARY&quot;</td><td>1</td><td>4</td><td>&quot;Software Devel…</td><td>&quot;ART&quot;</td><td>&quot;Art/Creative&quot;</td><td>&quot;Crossover &quot;</td><td>&quot;Crossover’s mi…</td><td>5</td><td>&quot;TX&quot;</td><td>&quot;US&quot;</td><td>&quot;Austin&quot;</td><td>&quot;73301&quot;</td><td>&quot;Remote Blvd.&quot;</td><td>&quot;https://www.li…</td><td>&quot;Information Te…</td><td>2480</td><td>6308800</td><td>1692845076</td><td>[-0.056679, -0.165439, … -0.460317]</td></tr><tr><td>3701319448</td><td>35664005</td><td>&quot;Head of Sales …</td><td>&quot;UP Talent Grou…</td><td>null</td><td>800000.0</td><td>null</td><td>&quot;YEARLY&quot;</td><td>&quot;Full-time&quot;</td><td>&quot;San Francisco …</td><td>&quot;CA&quot;</td><td>null</td><td>1.6900e12</td><td>null</td><td>172</td><td>&quot;https://www.li…</td><td>null</td><td>&quot;ComplexOnsiteA…</td><td>1.7100e12</td><td>1.6900e12</td><td>null</td><td>null</td><td>1.6900e12</td><td>null</td><td>1</td><td>&quot;FULL_TIME&quot;</td><td>&quot;USD&quot;</td><td>&quot;BASE_SALARY&quot;</td><td>1</td><td>14</td><td>&quot;Hospitals and …</td><td>&quot;SALE&quot;</td><td>&quot;Sales&quot;</td><td>&quot;UP Talent Grou…</td><td>&quot;Full-Service R…</td><td>null</td><td>&quot;New Jersey&quot;</td><td>&quot;US&quot;</td><td>&quot;Princeton&quot;</td><td>&quot;8540&quot;</td><td>&quot;213 Carnegie C…</td><td>&quot;https://www.li…</td><td>&quot;Staffing &amp; Rec…</td><td>8</td><td>9150</td><td>1692865325</td><td>[-0.055077, 0.475819, … -0.397984]</td></tr><tr><td>3701326157</td><td>106584</td><td>&quot;Tech Lead Mana…</td><td>&quot;Tech Lead Mana…</td><td>1e6</td><td>875000.0</td><td>750000.0</td><td>&quot;YEARLY&quot;</td><td>&quot;Full-time&quot;</td><td>&quot;Palo Alto, CA&quot;</td><td>&quot;CA&quot;</td><td>48</td><td>1.6900e12</td><td>1</td><td>166</td><td>&quot;https://www.li…</td><td>null</td><td>&quot;ComplexOnsiteA…</td><td>1.7000e12</td><td>null</td><td>&quot;Mid-Senior lev…</td><td>null</td><td>1.6900e12</td><td>null</td><td>1</td><td>&quot;FULL_TIME&quot;</td><td>&quot;USD&quot;</td><td>&quot;BASE_SALARY&quot;</td><td>1</td><td>43</td><td>&quot;Financial Serv…</td><td>&quot;FIN&quot;</td><td>&quot;Finance&quot;</td><td>&quot;Selby Jennings…</td><td>&quot;From Investmen…</td><td>5</td><td>&quot;0&quot;</td><td>&quot;GB&quot;</td><td>&quot;London&quot;</td><td>&quot;EC3V 9AH&quot;</td><td>&quot;21 Lombard Str…</td><td>&quot;https://www.li…</td><td>&quot;Information Te…</td><td>719</td><td>486913</td><td>1692842748</td><td>[0.030097, 0.345475, … -0.285802]</td></tr><tr><td>3699056923</td><td>13094</td><td>&quot;Criminal Court…</td><td>&quot;Position Descr…</td><td>null</td><td>998426.0</td><td>null</td><td>&quot;YEARLY&quot;</td><td>&quot;Full-time&quot;</td><td>&quot;Houston, TX&quot;</td><td>&quot;TX&quot;</td><td>17</td><td>1.6900e12</td><td>null</td><td>84</td><td>&quot;https://www.li…</td><td>&quot;https://www.go…</td><td>&quot;OffsiteApply&quot;</td><td>1.7000e12</td><td>null</td><td>&quot;Entry level&quot;</td><td>null</td><td>1.6900e12</td><td>&quot;www.government…</td><td>1</td><td>&quot;FULL_TIME&quot;</td><td>&quot;USD&quot;</td><td>&quot;BASE_SALARY&quot;</td><td>1</td><td>75</td><td>&quot;Government Adm…</td><td>&quot;LGL&quot;</td><td>&quot;Legal&quot;</td><td>&quot;Harris County&quot;</td><td>&quot;Harris County …</td><td>7</td><td>&quot;0&quot;</td><td>&quot;US&quot;</td><td>&quot;0&quot;</td><td>&quot;0&quot;</td><td>&quot;0&quot;</td><td>&quot;https://www.li…</td><td>&quot;Government Adm…</td><td>5594</td><td>29131</td><td>1692855364</td><td>[-0.197423, 0.261001, … -0.33469]</td></tr><tr><td>3694103424</td><td>92699700</td><td>&quot;Quantitative D…</td><td>&quot;Goliath Partne…</td><td>1.3e6</td><td>1.05e6</td><td>800000.0</td><td>&quot;YEARLY&quot;</td><td>&quot;Full-time&quot;</td><td>&quot;Greater Chicag…</td><td>&quot;IL&quot;</td><td>14</td><td>1.6900e12</td><td>null</td><td>49</td><td>&quot;https://www.li…</td><td>null</td><td>&quot;ComplexOnsiteA…</td><td>1.7000e12</td><td>null</td><td>&quot;Mid-Senior lev…</td><td>null</td><td>1.6900e12</td><td>null</td><td>0</td><td>&quot;FULL_TIME&quot;</td><td>&quot;USD&quot;</td><td>&quot;BASE_SALARY&quot;</td><td>1</td><td>129</td><td>&quot;Capital Market…</td><td>&quot;FIN&quot;</td><td>&quot;Finance&quot;</td><td>&quot;Goliath Partne…</td><td>&quot;Driving innova…</td><td>null</td><td>&quot;Florida&quot;</td><td>&quot;US&quot;</td><td>&quot;Miami&quot;</td><td>&quot;0&quot;</td><td>&quot;0&quot;</td><td>&quot;https://www.li…</td><td>&quot;Staffing &amp; Rec…</td><td>4</td><td>9187</td><td>1692842269</td><td>[-0.285268, 0.101135, … -0.006685]</td></tr></tbody></table></div>"
      ],
      "text/plain": [
       "shape: (12_839, 47)\n",
       "┌───────────┬───────────┬───────────┬───────────┬───┬───────────┬───────────┬───────────┬──────────┐\n",
       "│ job_id    ┆ company_i ┆ title     ┆ descripti ┆ … ┆ company_e ┆ company_f ┆ company_t ┆ Encoding │\n",
       "│ ---       ┆ d         ┆ ---       ┆ on        ┆   ┆ mployee_c ┆ ollower_c ┆ ime_recor ┆ ---      │\n",
       "│ i64       ┆ ---       ┆ str       ┆ ---       ┆   ┆ ount      ┆ ount      ┆ ded       ┆ list[f64 │\n",
       "│           ┆ i64       ┆           ┆ str       ┆   ┆ ---       ┆ ---       ┆ ---       ┆ ]        │\n",
       "│           ┆           ┆           ┆           ┆   ┆ i64       ┆ i64       ┆ i64       ┆          │\n",
       "╞═══════════╪═══════════╪═══════════╪═══════════╪═══╪═══════════╪═══════════╪═══════════╪══════════╡\n",
       "│ 375774484 ┆ 3594609   ┆ Virtual   ┆ Company   ┆ … ┆ 3         ┆ 46        ┆ 169906127 ┆ [-0.0736 │\n",
       "│ 7         ┆           ┆ Assitant  ┆ Descripti ┆   ┆           ┆           ┆ 4         ┆ 53, 0.04 │\n",
       "│           ┆           ┆           ┆ on        ┆   ┆           ┆           ┆           ┆ 0756, …  │\n",
       "│           ┆           ┆           ┆ Transform ┆   ┆           ┆           ┆           ┆ -0.10296 │\n",
       "│           ┆           ┆           ┆ ed …      ┆   ┆           ┆           ┆           ┆ …        │\n",
       "│ 374885100 ┆ 2662      ┆ Administr ┆ JOB       ┆ … ┆ 798       ┆ 7277      ┆ 169899443 ┆ [-0.3508 │\n",
       "│ 1         ┆           ┆ ative Coo ┆ TITLE:    ┆   ┆           ┆           ┆ 7         ┆ 65,      │\n",
       "│           ┆           ┆ rdinator  ┆ Administr ┆   ┆           ┆           ┆           ┆ 0.16235, │\n",
       "│           ┆           ┆ (JO#6…    ┆ ative     ┆   ┆           ┆           ┆           ┆ … -0.098 │\n",
       "│           ┆           ┆           ┆ Coordi…   ┆   ┆           ┆           ┆           ┆ 86]      │\n",
       "│ 375558550 ┆ 17902     ┆ Assembler ┆ About     ┆ … ┆ 2377      ┆ 81821     ┆ 169284901 ┆ [0.08938 │\n",
       "│ 9         ┆           ┆ - 1st     ┆ JLG, An   ┆   ┆           ┆           ┆ 1         ┆ 5, 0.626 │\n",
       "│           ┆           ┆ Shift     ┆ Oshkosh   ┆   ┆           ┆           ┆           ┆ 603, …   │\n",
       "│           ┆           ┆           ┆ Company   ┆   ┆           ┆           ┆           ┆ -0.48005 │\n",
       "│           ┆           ┆           ┆           ┆   ┆           ┆           ┆           ┆ 7…       │\n",
       "│           ┆           ┆           ┆ J…        ┆   ┆           ┆           ┆           ┆          │\n",
       "│ 374937335 ┆ 207350    ┆ Aircraft  ┆ Aircraft  ┆ … ┆ 4622      ┆ 56807     ┆ 169905220 ┆ [-0.4638 │\n",
       "│ 9         ┆           ┆ Interior  ┆ Interior  ┆   ┆           ┆           ┆ 9         ┆ 98, 0.58 │\n",
       "│           ┆           ┆ Tech III  ┆ Tech III  ┆   ┆           ┆           ┆           ┆ 1835, …  │\n",
       "│           ┆           ┆           ┆ - 151…    ┆   ┆           ┆           ┆           ┆ -0.14649 │\n",
       "│           ┆           ┆           ┆           ┆   ┆           ┆           ┆           ┆ …        │\n",
       "│ 374937154 ┆ 207350    ┆ Avionics  ┆ Avionics  ┆ … ┆ 4622      ┆ 56807     ┆ 169905220 ┆ [-0.2285 │\n",
       "│ 3         ┆           ┆ Crew      ┆ Crew      ┆   ┆           ┆           ┆ 9         ┆ 99, 0.75 │\n",
       "│           ┆           ┆ Alternate ┆ Alternate ┆   ┆           ┆           ┆           ┆ 3888, …  │\n",
       "│           ┆           ┆ Lead      ┆ Lead - 1… ┆   ┆           ┆           ┆           ┆ -0.09351 │\n",
       "│           ┆           ┆           ┆           ┆   ┆           ┆           ┆           ┆ …        │\n",
       "│ …         ┆ …         ┆ …         ┆ …         ┆ … ┆ …         ┆ …         ┆ …         ┆ …        │\n",
       "│ 369735397 ┆ 9308035   ┆ Distingui ┆ Crossover ┆ … ┆ 2480      ┆ 6308800   ┆ 169284507 ┆ [-0.0566 │\n",
       "│ 8         ┆           ┆ shed      ┆ is the    ┆   ┆           ┆           ┆ 6         ┆ 79, -0.1 │\n",
       "│           ┆           ┆ Engineer, ┆ world's   ┆   ┆           ┆           ┆           ┆ 65439, … │\n",
       "│           ┆           ┆ Trilogy … ┆ #1 sour…  ┆   ┆           ┆           ┆           ┆ -0.4603… │\n",
       "│ 370131944 ┆ 35664005  ┆ Head of   ┆ UP Talent ┆ … ┆ 8         ┆ 9150      ┆ 169286532 ┆ [-0.0550 │\n",
       "│ 8         ┆           ┆ Sales &   ┆ Group is  ┆   ┆           ┆           ┆ 5         ┆ 77, 0.47 │\n",
       "│           ┆           ┆ Marketing ┆ partnerin ┆   ┆           ┆           ┆           ┆ 5819, …  │\n",
       "│           ┆           ┆ (Healt…   ┆ g di…     ┆   ┆           ┆           ┆           ┆ -0.39798 │\n",
       "│           ┆           ┆           ┆           ┆   ┆           ┆           ┆           ┆ …        │\n",
       "│ 370132615 ┆ 106584    ┆ Tech Lead ┆ Tech Lead ┆ … ┆ 719       ┆ 486913    ┆ 169284274 ┆ [0.03009 │\n",
       "│ 7         ┆           ┆ Manager   ┆ Manager   ┆   ┆           ┆           ┆ 8         ┆ 7, 0.345 │\n",
       "│           ┆           ┆ (L6-L8) | ┆ (L6-L8) | ┆   ┆           ┆           ┆           ┆ 475, …   │\n",
       "│           ┆           ┆ Disr…     ┆ Disr…     ┆   ┆           ┆           ┆           ┆ -0.28580 │\n",
       "│           ┆           ┆           ┆           ┆   ┆           ┆           ┆           ┆ 2…       │\n",
       "│ 369905692 ┆ 13094     ┆ Criminal  ┆ Position  ┆ … ┆ 5594      ┆ 29131     ┆ 169285536 ┆ [-0.1974 │\n",
       "│ 3         ┆           ┆ Court     ┆ Descripti ┆   ┆           ┆           ┆ 4         ┆ 23, 0.26 │\n",
       "│           ┆           ┆ Clerk     ┆ on        ┆   ┆           ┆           ┆           ┆ 1001, …  │\n",
       "│           ┆           ┆           ┆ Under     ┆   ┆           ┆           ┆           ┆ -0.33469 │\n",
       "│           ┆           ┆           ┆ gener…    ┆   ┆           ┆           ┆           ┆ …        │\n",
       "│ 369410342 ┆ 92699700  ┆ Quantitat ┆ Goliath   ┆ … ┆ 4         ┆ 9187      ┆ 169284226 ┆ [-0.2852 │\n",
       "│ 4         ┆           ┆ ive       ┆ Partners  ┆   ┆           ┆           ┆ 9         ┆ 68, 0.10 │\n",
       "│           ┆           ┆ Developer ┆ has a req ┆   ┆           ┆           ┆           ┆ 1135, …  │\n",
       "│           ┆           ┆           ┆ uireme…   ┆   ┆           ┆           ┆           ┆ -0.00668 │\n",
       "│           ┆           ┆           ┆           ┆   ┆           ┆           ┆           ┆ …        │\n",
       "└───────────┴───────────┴───────────┴───────────┴───┴───────────┴───────────┴───────────┴──────────┘"
      ]
     },
     "execution_count": 5,
     "metadata": {},
     "output_type": "execute_result"
    }
   ],
   "source": [
    "collected = new_df.collect()\n",
    "collected"
   ]
  },
  {
   "cell_type": "code",
   "execution_count": 6,
   "metadata": {},
   "outputs": [],
   "source": [
    "collected.write_parquet(output)"
   ]
  },
  {
   "cell_type": "code",
   "execution_count": null,
   "metadata": {},
   "outputs": [],
   "source": []
  }
 ],
 "metadata": {
  "kernelspec": {
   "display_name": "rl",
   "language": "python",
   "name": "python3"
  },
  "language_info": {
   "codemirror_mode": {
    "name": "ipython",
    "version": 3
   },
   "file_extension": ".py",
   "mimetype": "text/x-python",
   "name": "python",
   "nbconvert_exporter": "python",
   "pygments_lexer": "ipython3",
   "version": "3.11.3"
  }
 },
 "nbformat": 4,
 "nbformat_minor": 2
}
