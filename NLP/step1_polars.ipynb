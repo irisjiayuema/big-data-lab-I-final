{
 "cells": [
  {
   "cell_type": "code",
   "execution_count": 1,
   "metadata": {},
   "outputs": [],
   "source": [
    "from transformers import (\n",
    "    TokenClassificationPipeline,\n",
    "    AutoModelForTokenClassification,\n",
    "    AutoTokenizer,\n",
    ")\n",
    "from transformers.pipelines import AggregationStrategy\n",
    "from transformers import AutoTokenizer\n",
    "\n",
    "from sentence_transformers import SentenceTransformer\n",
    "\n",
    "import numpy as np\n",
    "import polars as pl\n",
    "\n",
    "# Define keyphrase extraction pipeline\n",
    "class KeyphraseExtractionPipeline(TokenClassificationPipeline):\n",
    "    def __init__(self, model, *args, **kwargs):\n",
    "        super().__init__(\n",
    "            model=AutoModelForTokenClassification.from_pretrained(model),\n",
    "            tokenizer=AutoTokenizer.from_pretrained(model),\n",
    "            *args,\n",
    "            **kwargs\n",
    "        )\n",
    "\n",
    "    def postprocess(self, all_outputs):\n",
    "        results = super().postprocess(\n",
    "            all_outputs=all_outputs,\n",
    "            aggregation_strategy=AggregationStrategy.SIMPLE,\n",
    "        )\n",
    "        keywords = list(np.unique([result.get(\"word\").strip() for result in results]))\n",
    "        keywords_str = ';'.join(keywords)\n",
    "        \n",
    "        return keywords_str\n",
    "\n",
    "# this function encodes the given text using the sentence transformer and truncates/pads as necessary\n",
    "def encode(text):\n",
    "    enc = [x.item() for x in list(tokenizer.encode(text))]\n",
    "    return enc\n",
    "    \n",
    "inputs = '../NewData/jobs_all.csv'\n",
    "output = 'tokenized_data_csv'\n",
    "\n",
    "tokenizer = SentenceTransformer(\"msmarco-distilbert-dot-v5\")\n",
    "\n",
    "model_name = \"ml6team/keyphrase-extraction-kbir-inspec\"\n",
    "extractor = KeyphraseExtractionPipeline(model=model_name)"
   ]
  },
  {
   "cell_type": "code",
   "execution_count": 2,
   "metadata": {},
   "outputs": [],
   "source": [
    "# read in data\n",
    "df = pl.scan_csv(inputs)\n",
    "df = df.drop_nulls(subset='description')"
   ]
  },
  {
   "cell_type": "code",
   "execution_count": 3,
   "metadata": {},
   "outputs": [
    {
     "data": {
      "text/html": [
       "<div><style>\n",
       ".dataframe > thead > tr,\n",
       ".dataframe > tbody > tr {\n",
       "  text-align: right;\n",
       "  white-space: pre-wrap;\n",
       "}\n",
       "</style>\n",
       "<small>shape: (32_826, 46)</small><table border=\"1\" class=\"dataframe\"><thead><tr><th>job_id</th><th>company_id</th><th>title</th><th>description</th><th>max_salary</th><th>med_salary</th><th>min_salary</th><th>pay_period</th><th>formatted_work_type</th><th>location</th><th>state_abbr</th><th>applies</th><th>original_listed_time</th><th>remote_allowed</th><th>views</th><th>job_posting_url</th><th>application_url</th><th>application_type</th><th>expiry</th><th>closed_time</th><th>formatted_experience_level</th><th>skills_desc</th><th>listed_time</th><th>posting_domain</th><th>sponsored</th><th>work_type</th><th>currency</th><th>compensation_type</th><th>scraped</th><th>industry_id</th><th>industry_name</th><th>skill_abr</th><th>skill_name</th><th>company_name</th><th>company_description</th><th>company_size</th><th>company_state</th><th>company_country</th><th>company_city</th><th>company_zipcode</th><th>company_address</th><th>company_url</th><th>company_industry</th><th>company_employee_count</th><th>company_follower_count</th><th>company_time_recorded</th></tr><tr><td>i64</td><td>i64</td><td>str</td><td>str</td><td>f64</td><td>f64</td><td>f64</td><td>str</td><td>str</td><td>str</td><td>str</td><td>i64</td><td>f64</td><td>i64</td><td>i64</td><td>str</td><td>str</td><td>str</td><td>f64</td><td>f64</td><td>str</td><td>str</td><td>f64</td><td>str</td><td>i64</td><td>str</td><td>str</td><td>str</td><td>i64</td><td>i64</td><td>str</td><td>str</td><td>str</td><td>str</td><td>str</td><td>i64</td><td>str</td><td>str</td><td>str</td><td>str</td><td>str</td><td>str</td><td>str</td><td>i64</td><td>i64</td><td>i64</td></tr></thead><tbody><tr><td>3757940104</td><td>553718</td><td>&quot;Hearing Care P…</td><td>&quot;Overview\n",
       "\n",
       "Hear…</td><td>null</td><td>5250.0</td><td>null</td><td>&quot;MONTHLY&quot;</td><td>&quot;Full-time&quot;</td><td>&quot;Little River, …</td><td>&quot;SC&quot;</td><td>null</td><td>1.7000e12</td><td>null</td><td>9</td><td>&quot;https://www.li…</td><td>&quot;https://career…</td><td>&quot;OffsiteApply&quot;</td><td>1.7000e12</td><td>null</td><td>&quot;Entry level&quot;</td><td>null</td><td>1.7000e12</td><td>&quot;careers-demant…</td><td>0</td><td>&quot;FULL_TIME&quot;</td><td>&quot;USD&quot;</td><td>&quot;BASE_SALARY&quot;</td><td>1699138101</td><td>17</td><td>&quot;Medical Equipm…</td><td>&quot;OTHR&quot;</td><td>&quot;Other&quot;</td><td>&quot;HearingLife&quot;</td><td>&quot;HearingLife is…</td><td>5</td><td>&quot;New Jersey&quot;</td><td>&quot;US&quot;</td><td>&quot;Somerset&quot;</td><td>&quot;8873&quot;</td><td>&quot;580 Howard Ave…</td><td>&quot;https://www.li…</td><td>&quot;Retail&quot;</td><td>1171</td><td>11417</td><td>1699131481</td></tr><tr><td>3757940025</td><td>2192142</td><td>&quot;Shipping &amp; Rec…</td><td>&quot;Metalcraft of …</td><td>null</td><td>null</td><td>null</td><td>null</td><td>&quot;Full-time&quot;</td><td>&quot;Beaver Dam, WI…</td><td>&quot;WI&quot;</td><td>null</td><td>1.7000e12</td><td>null</td><td>null</td><td>&quot;https://www.li…</td><td>&quot;https://www.cl…</td><td>&quot;OffsiteApply&quot;</td><td>1.7000e12</td><td>null</td><td>null</td><td>null</td><td>1.7000e12</td><td>&quot;www.click2appl…</td><td>0</td><td>&quot;FULL_TIME&quot;</td><td>null</td><td>null</td><td>1699085420</td><td>135</td><td>&quot;Industrial Mac…</td><td>&quot;MGMT&quot;</td><td>&quot;Management&quot;</td><td>&quot;Metalcraft of …</td><td>&quot;Headquartered …</td><td>4</td><td>&quot;WI&quot;</td><td>&quot;US&quot;</td><td>&quot;Mayville&quot;</td><td>&quot;53050&quot;</td><td>&quot;1000 Metalcraf…</td><td>&quot;https://www.li…</td><td>&quot;Industrial Mac…</td><td>300</td><td>2923</td><td>1699085420</td></tr><tr><td>3757938019</td><td>474443</td><td>&quot;Manager, Engin…</td><td>&quot;\n",
       "The TSUBAKI n…</td><td>null</td><td>null</td><td>null</td><td>null</td><td>&quot;Full-time&quot;</td><td>&quot;Bessemer, AL&quot;</td><td>&quot;AL&quot;</td><td>null</td><td>1.7000e12</td><td>null</td><td>null</td><td>&quot;https://www.li…</td><td>&quot;https://www.cl…</td><td>&quot;OffsiteApply&quot;</td><td>1.7000e12</td><td>null</td><td>null</td><td>&quot;Bachelor&#x27;s Deg…</td><td>1.7000e12</td><td>&quot;www.click2appl…</td><td>0</td><td>&quot;FULL_TIME&quot;</td><td>null</td><td>null</td><td>1699085644</td><td>147</td><td>&quot;Automation Mac…</td><td>&quot;ENG&quot;</td><td>&quot;Engineering&quot;</td><td>&quot;U.S. Tsubaki P…</td><td>&quot;U.S. Tsubaki P…</td><td>4</td><td>&quot;Illinois&quot;</td><td>&quot;US&quot;</td><td>&quot;Wheeling&quot;</td><td>&quot;60090&quot;</td><td>&quot;301E Marquardt…</td><td>&quot;https://www.li…</td><td>&quot;Automation Mac…</td><td>314</td><td>8487</td><td>1699085644</td></tr><tr><td>3757938018</td><td>18213359</td><td>&quot;Cook&quot;</td><td>&quot;descriptionTit…</td><td>null</td><td>22.27</td><td>null</td><td>&quot;HOURLY&quot;</td><td>&quot;Full-time&quot;</td><td>&quot;Aliso Viejo, C…</td><td>&quot;CA&quot;</td><td>null</td><td>1.7000e12</td><td>null</td><td>1</td><td>&quot;https://www.li…</td><td>&quot;https://jobs.a…</td><td>&quot;OffsiteApply&quot;</td><td>1.7000e12</td><td>null</td><td>&quot;Entry level&quot;</td><td>null</td><td>1.7000e12</td><td>&quot;jobs.apploi.co…</td><td>0</td><td>&quot;FULL_TIME&quot;</td><td>&quot;USD&quot;</td><td>&quot;BASE_SALARY&quot;</td><td>1699087461</td><td>100</td><td>&quot;Non-profit Org…</td><td>&quot;MGMT&quot;</td><td>&quot;Management&quot;</td><td>&quot;Episcopal Comm…</td><td>&quot;Episcopal Comm…</td><td>4</td><td>&quot;California&quot;</td><td>&quot;US&quot;</td><td>&quot;Altadena&quot;</td><td>&quot;91001&quot;</td><td>&quot;2212 El Molino…</td><td>&quot;https://www.li…</td><td>&quot;Non-profit Org…</td><td>36</td><td>305</td><td>1692863696</td></tr><tr><td>3757937095</td><td>437225</td><td>&quot;Principal Clou…</td><td>&quot;Job Summary\n",
       "At…</td><td>275834.0</td><td>null</td><td>205956.0</td><td>&quot;YEARLY&quot;</td><td>&quot;Full-time&quot;</td><td>&quot;United States&quot;</td><td>&quot;US&quot;</td><td>null</td><td>1.7000e12</td><td>1</td><td>null</td><td>&quot;https://www.li…</td><td>&quot;https://career…</td><td>&quot;OffsiteApply&quot;</td><td>1.7000e12</td><td>null</td><td>&quot;Mid-Senior lev…</td><td>null</td><td>1.7000e12</td><td>&quot;careers.iherb.…</td><td>0</td><td>&quot;FULL_TIME&quot;</td><td>&quot;USD&quot;</td><td>&quot;BASE_SALARY&quot;</td><td>1699085346</td><td>27</td><td>&quot;Retail&quot;</td><td>&quot;IT&quot;</td><td>&quot;Information Te…</td><td>&quot;iHerb, LLC&quot;</td><td>&quot;iHerb is on a …</td><td>5</td><td>&quot;California&quot;</td><td>&quot;US&quot;</td><td>&quot;Irvine&quot;</td><td>&quot;92618&quot;</td><td>&quot;17400 Laguna C…</td><td>&quot;https://www.li…</td><td>&quot;Retail&quot;</td><td>1227</td><td>51933</td><td>1692863726</td></tr><tr><td>&hellip;</td><td>&hellip;</td><td>&hellip;</td><td>&hellip;</td><td>&hellip;</td><td>&hellip;</td><td>&hellip;</td><td>&hellip;</td><td>&hellip;</td><td>&hellip;</td><td>&hellip;</td><td>&hellip;</td><td>&hellip;</td><td>&hellip;</td><td>&hellip;</td><td>&hellip;</td><td>&hellip;</td><td>&hellip;</td><td>&hellip;</td><td>&hellip;</td><td>&hellip;</td><td>&hellip;</td><td>&hellip;</td><td>&hellip;</td><td>&hellip;</td><td>&hellip;</td><td>&hellip;</td><td>&hellip;</td><td>&hellip;</td><td>&hellip;</td><td>&hellip;</td><td>&hellip;</td><td>&hellip;</td><td>&hellip;</td><td>&hellip;</td><td>&hellip;</td><td>&hellip;</td><td>&hellip;</td><td>&hellip;</td><td>&hellip;</td><td>&hellip;</td><td>&hellip;</td><td>&hellip;</td><td>&hellip;</td><td>&hellip;</td><td>&hellip;</td></tr><tr><td>133114754</td><td>77766802</td><td>&quot;Sales Manager&quot;</td><td>&quot;Are you a dyna…</td><td>null</td><td>null</td><td>null</td><td>null</td><td>&quot;Full-time&quot;</td><td>&quot;Santa Clarita,…</td><td>&quot;CA&quot;</td><td>null</td><td>1.6900e12</td><td>null</td><td>null</td><td>&quot;https://www.li…</td><td>null</td><td>&quot;ComplexOnsiteA…</td><td>1.7000e12</td><td>null</td><td>null</td><td>null</td><td>1.6900e12</td><td>null</td><td>0</td><td>&quot;FULL_TIME&quot;</td><td>null</td><td>null</td><td>1</td><td>92</td><td>&quot;Truck Transpor…</td><td>&quot;SALE&quot;</td><td>&quot;Sales&quot;</td><td>&quot;CargoLogin.&quot;</td><td>&quot;CargoLogin is …</td><td>1</td><td>&quot;California&quot;</td><td>&quot;US&quot;</td><td>&quot;Santa Clarita&quot;</td><td>&quot;28358&quot;</td><td>&quot;Constellation …</td><td>&quot;https://www.li…</td><td>&quot;Transportation…</td><td>15</td><td>159</td><td>1692834657</td></tr><tr><td>108965123</td><td>null</td><td>&quot;Office Adminis…</td><td>&quot;A fast-fashion…</td><td>null</td><td>null</td><td>null</td><td>null</td><td>&quot;Full-time&quot;</td><td>&quot;New York, NY&quot;</td><td>&quot;NY&quot;</td><td>2</td><td>1.7000e12</td><td>null</td><td>4</td><td>&quot;https://www.li…</td><td>null</td><td>&quot;ComplexOnsiteA…</td><td>1.7000e12</td><td>null</td><td>null</td><td>null</td><td>1.7000e12</td><td>null</td><td>0</td><td>&quot;FULL_TIME&quot;</td><td>null</td><td>null</td><td>1699044401</td><td>19</td><td>&quot;Retail Apparel…</td><td>&quot;ADM&quot;</td><td>&quot;Administrative…</td><td>null</td><td>null</td><td>null</td><td>null</td><td>null</td><td>null</td><td>null</td><td>null</td><td>null</td><td>null</td><td>null</td><td>null</td><td>null</td></tr><tr><td>102339515</td><td>52132271</td><td>&quot;Franchise Owne…</td><td>&quot;DuctVentz is a…</td><td>null</td><td>null</td><td>null</td><td>null</td><td>&quot;Full-time&quot;</td><td>&quot;Greater Boston…</td><td>&quot;MA&quot;</td><td>null</td><td>1.7000e12</td><td>null</td><td>null</td><td>&quot;https://www.li…</td><td>null</td><td>&quot;SimpleOnsiteAp…</td><td>1.7000e12</td><td>null</td><td>null</td><td>null</td><td>1.7000e12</td><td>null</td><td>0</td><td>&quot;FULL_TIME&quot;</td><td>null</td><td>null</td><td>1699063495</td><td>91</td><td>&quot;Consumer Servi…</td><td>&quot;BD&quot;</td><td>&quot;Business Devel…</td><td>&quot;DryerVentz - D…</td><td>&quot;DryerVentz ope…</td><td>1</td><td>&quot;0&quot;</td><td>&quot;US&quot;</td><td>&quot;New York&quot;</td><td>&quot;0&quot;</td><td>&quot;0&quot;</td><td>&quot;https://www.li…</td><td>&quot;Consumer Servi…</td><td>7</td><td>28</td><td>1699063495</td></tr><tr><td>85008768</td><td>null</td><td>&quot;Licensed Insur…</td><td>&quot;While many ind…</td><td>52000.0</td><td>null</td><td>45760.0</td><td>&quot;YEARLY&quot;</td><td>&quot;Full-time&quot;</td><td>&quot;Chico, CA&quot;</td><td>&quot;CA&quot;</td><td>null</td><td>1.6900e12</td><td>null</td><td>5</td><td>&quot;https://www.li…</td><td>null</td><td>&quot;ComplexOnsiteA…</td><td>1.7100e12</td><td>null</td><td>null</td><td>null</td><td>1.6900e12</td><td>null</td><td>1</td><td>&quot;FULL_TIME&quot;</td><td>&quot;USD&quot;</td><td>&quot;BASE_SALARY&quot;</td><td>1</td><td>42</td><td>&quot;Insurance&quot;</td><td>&quot;SALE&quot;</td><td>&quot;Sales&quot;</td><td>null</td><td>null</td><td>null</td><td>null</td><td>null</td><td>null</td><td>null</td><td>null</td><td>null</td><td>null</td><td>null</td><td>null</td><td>null</td></tr><tr><td>3958427</td><td>630152</td><td>&quot;Stylist/ Clori…</td><td>&quot;Karen Marie is…</td><td>80000.0</td><td>null</td><td>35000.0</td><td>&quot;YEARLY&quot;</td><td>&quot;Full-time&quot;</td><td>&quot;Chicago, IL&quot;</td><td>&quot;IL&quot;</td><td>null</td><td>1.7000e12</td><td>null</td><td>7</td><td>&quot;https://www.li…</td><td>null</td><td>&quot;ComplexOnsiteA…</td><td>1.7100e12</td><td>null</td><td>null</td><td>&quot;Must be a seas…</td><td>1.7000e12</td><td>null</td><td>0</td><td>&quot;FULL_TIME&quot;</td><td>&quot;USD&quot;</td><td>&quot;BASE_SALARY&quot;</td><td>1699057868</td><td>18</td><td>&quot;Personal Care …</td><td>&quot;DSGN&quot;</td><td>&quot;Design&quot;</td><td>&quot;Karen Marie Sa…</td><td>&quot;Hair salon &amp; i…</td><td>null</td><td>&quot;Illinois&quot;</td><td>&quot;US&quot;</td><td>&quot;Chicago&quot;</td><td>&quot;60647&quot;</td><td>&quot;1859 N Milwauk…</td><td>&quot;https://www.li…</td><td>&quot;Consumer Servi…</td><td>3</td><td>30</td><td>1699057868</td></tr></tbody></table></div>"
      ],
      "text/plain": [
       "shape: (32_826, 46)\n",
       "┌───────────┬───────────┬───────────┬───────────┬───┬───────────┬───────────┬───────────┬──────────┐\n",
       "│ job_id    ┆ company_i ┆ title     ┆ descripti ┆ … ┆ company_i ┆ company_e ┆ company_f ┆ company_ │\n",
       "│ ---       ┆ d         ┆ ---       ┆ on        ┆   ┆ ndustry   ┆ mployee_c ┆ ollower_c ┆ time_rec │\n",
       "│ i64       ┆ ---       ┆ str       ┆ ---       ┆   ┆ ---       ┆ ount      ┆ ount      ┆ orded    │\n",
       "│           ┆ i64       ┆           ┆ str       ┆   ┆ str       ┆ ---       ┆ ---       ┆ ---      │\n",
       "│           ┆           ┆           ┆           ┆   ┆           ┆ i64       ┆ i64       ┆ i64      │\n",
       "╞═══════════╪═══════════╪═══════════╪═══════════╪═══╪═══════════╪═══════════╪═══════════╪══════════╡\n",
       "│ 375794010 ┆ 553718    ┆ Hearing   ┆ Overview  ┆ … ┆ Retail    ┆ 1171      ┆ 11417     ┆ 16991314 │\n",
       "│ 4         ┆           ┆ Care      ┆           ┆   ┆           ┆           ┆           ┆ 81       │\n",
       "│           ┆           ┆ Provider  ┆ HearingLi ┆   ┆           ┆           ┆           ┆          │\n",
       "│           ┆           ┆           ┆ fe is a   ┆   ┆           ┆           ┆           ┆          │\n",
       "│           ┆           ┆           ┆ natio…    ┆   ┆           ┆           ┆           ┆          │\n",
       "│ 375794002 ┆ 2192142   ┆ Shipping  ┆ Metalcraf ┆ … ┆ Industria ┆ 300       ┆ 2923      ┆ 16990854 │\n",
       "│ 5         ┆           ┆ &         ┆ t of      ┆   ┆ l         ┆           ┆           ┆ 20       │\n",
       "│           ┆           ┆ Receiving ┆ Mayville  ┆   ┆ Machinery ┆           ┆           ┆          │\n",
       "│           ┆           ┆ Associate ┆ Metalcraf ┆   ┆ Manufactu ┆           ┆           ┆          │\n",
       "│           ┆           ┆ 2…        ┆ …         ┆   ┆ ri…       ┆           ┆           ┆          │\n",
       "│ 375793801 ┆ 474443    ┆ Manager,  ┆           ┆ … ┆ Automatio ┆ 314       ┆ 8487      ┆ 16990856 │\n",
       "│ 9         ┆           ┆ Engineeri ┆ The       ┆   ┆ n         ┆           ┆           ┆ 44       │\n",
       "│           ┆           ┆ ng        ┆ TSUBAKI   ┆   ┆ Machinery ┆           ┆           ┆          │\n",
       "│           ┆           ┆           ┆ name is   ┆   ┆ Manufactu ┆           ┆           ┆          │\n",
       "│           ┆           ┆           ┆ synonymou ┆   ┆ ri…       ┆           ┆           ┆          │\n",
       "│           ┆           ┆           ┆ s …       ┆   ┆           ┆           ┆           ┆          │\n",
       "│ 375793801 ┆ 18213359  ┆ Cook      ┆ descripti ┆ … ┆ Non-profi ┆ 36        ┆ 305       ┆ 16928636 │\n",
       "│ 8         ┆           ┆           ┆ onTitle   ┆   ┆ t Organiz ┆           ┆           ┆ 96       │\n",
       "│           ┆           ┆           ┆           ┆   ┆ ation     ┆           ┆           ┆          │\n",
       "│           ┆           ┆           ┆ Looking   ┆   ┆ Manageme… ┆           ┆           ┆          │\n",
       "│           ┆           ┆           ┆ for a…    ┆   ┆           ┆           ┆           ┆          │\n",
       "│ 375793709 ┆ 437225    ┆ Principal ┆ Job       ┆ … ┆ Retail    ┆ 1227      ┆ 51933     ┆ 16928637 │\n",
       "│ 5         ┆           ┆ Cloud     ┆ Summary   ┆   ┆           ┆           ┆           ┆ 26       │\n",
       "│           ┆           ┆ Security  ┆ At iHerb, ┆   ┆           ┆           ┆           ┆          │\n",
       "│           ┆           ┆ Archite…  ┆ we are on ┆   ┆           ┆           ┆           ┆          │\n",
       "│           ┆           ┆           ┆ …         ┆   ┆           ┆           ┆           ┆          │\n",
       "│ …         ┆ …         ┆ …         ┆ …         ┆ … ┆ …         ┆ …         ┆ …         ┆ …        │\n",
       "│ 133114754 ┆ 77766802  ┆ Sales     ┆ Are you a ┆ … ┆ Transport ┆ 15        ┆ 159       ┆ 16928346 │\n",
       "│           ┆           ┆ Manager   ┆ dynamic   ┆   ┆ ation/Tru ┆           ┆           ┆ 57       │\n",
       "│           ┆           ┆           ┆ and       ┆   ┆ cking/Rai ┆           ┆           ┆          │\n",
       "│           ┆           ┆           ┆ creative  ┆   ┆ lroad     ┆           ┆           ┆          │\n",
       "│           ┆           ┆           ┆ m…        ┆   ┆           ┆           ┆           ┆          │\n",
       "│ 108965123 ┆ null      ┆ Office    ┆ A fast-fa ┆ … ┆ null      ┆ null      ┆ null      ┆ null     │\n",
       "│           ┆           ┆ Administr ┆ shion who ┆   ┆           ┆           ┆           ┆          │\n",
       "│           ┆           ┆ ative     ┆ lesaler,  ┆   ┆           ┆           ┆           ┆          │\n",
       "│           ┆           ┆ Assistant ┆ is lo…    ┆   ┆           ┆           ┆           ┆          │\n",
       "│ 102339515 ┆ 52132271  ┆ Franchise ┆ DuctVentz ┆ … ┆ Consumer  ┆ 7         ┆ 28        ┆ 16990634 │\n",
       "│           ┆           ┆ Owner     ┆ is a      ┆   ┆ Services  ┆           ┆           ┆ 95       │\n",
       "│           ┆           ┆           ┆ dryer and ┆   ┆           ┆           ┆           ┆          │\n",
       "│           ┆           ┆           ┆ A/C – h…  ┆   ┆           ┆           ┆           ┆          │\n",
       "│ 85008768  ┆ null      ┆ Licensed  ┆ While     ┆ … ┆ null      ┆ null      ┆ null      ┆ null     │\n",
       "│           ┆           ┆ Insurance ┆ many indu ┆   ┆           ┆           ┆           ┆          │\n",
       "│           ┆           ┆ Agent     ┆ stries    ┆   ┆           ┆           ┆           ┆          │\n",
       "│           ┆           ┆           ┆ were hurt ┆   ┆           ┆           ┆           ┆          │\n",
       "│           ┆           ┆           ┆ …         ┆   ┆           ┆           ┆           ┆          │\n",
       "│ 3958427   ┆ 630152    ┆ Stylist/  ┆ Karen     ┆ … ┆ Consumer  ┆ 3         ┆ 30        ┆ 16990578 │\n",
       "│           ┆           ┆ Clorist   ┆ Marie is  ┆   ┆ Services  ┆           ┆           ┆ 68       │\n",
       "│           ┆           ┆           ┆ looking   ┆   ┆           ┆           ┆           ┆          │\n",
       "│           ┆           ┆           ┆ for an    ┆   ┆           ┆           ┆           ┆          │\n",
       "│           ┆           ┆           ┆ aw…       ┆   ┆           ┆           ┆           ┆          │\n",
       "└───────────┴───────────┴───────────┴───────────┴───┴───────────┴───────────┴───────────┴──────────┘"
      ]
     },
     "execution_count": 3,
     "metadata": {},
     "output_type": "execute_result"
    }
   ],
   "source": [
    "df.collect()"
   ]
  },
  {
   "cell_type": "code",
   "execution_count": 4,
   "metadata": {},
   "outputs": [],
   "source": [
    "df_head = df.head(100)"
   ]
  },
  {
   "cell_type": "code",
   "execution_count": 5,
   "metadata": {},
   "outputs": [],
   "source": [
    "new_df = df_head.with_columns(\n",
    "    [pl.col(\"description\").map_elements(encode, return_dtype=pl.List(pl.Float64)).alias('Encoding'),\n",
    "     pl.col(\"description\").map_elements(extractor, return_dtype=pl.Utf8).alias('Keyphrases')]\n",
    ")"
   ]
  },
  {
   "cell_type": "code",
   "execution_count": 6,
   "metadata": {},
   "outputs": [
    {
     "data": {
      "text/html": [
       "<div><style>\n",
       ".dataframe > thead > tr,\n",
       ".dataframe > tbody > tr {\n",
       "  text-align: right;\n",
       "  white-space: pre-wrap;\n",
       "}\n",
       "</style>\n",
       "<small>shape: (100, 48)</small><table border=\"1\" class=\"dataframe\"><thead><tr><th>job_id</th><th>company_id</th><th>title</th><th>description</th><th>max_salary</th><th>med_salary</th><th>min_salary</th><th>pay_period</th><th>formatted_work_type</th><th>location</th><th>state_abbr</th><th>applies</th><th>original_listed_time</th><th>remote_allowed</th><th>views</th><th>job_posting_url</th><th>application_url</th><th>application_type</th><th>expiry</th><th>closed_time</th><th>formatted_experience_level</th><th>skills_desc</th><th>listed_time</th><th>posting_domain</th><th>sponsored</th><th>work_type</th><th>currency</th><th>compensation_type</th><th>scraped</th><th>industry_id</th><th>industry_name</th><th>skill_abr</th><th>skill_name</th><th>company_name</th><th>company_description</th><th>company_size</th><th>company_state</th><th>company_country</th><th>company_city</th><th>company_zipcode</th><th>company_address</th><th>company_url</th><th>company_industry</th><th>company_employee_count</th><th>company_follower_count</th><th>company_time_recorded</th><th>Encoding</th><th>Keyphrases</th></tr><tr><td>i64</td><td>i64</td><td>str</td><td>str</td><td>f64</td><td>f64</td><td>f64</td><td>str</td><td>str</td><td>str</td><td>str</td><td>i64</td><td>f64</td><td>i64</td><td>i64</td><td>str</td><td>str</td><td>str</td><td>f64</td><td>f64</td><td>str</td><td>str</td><td>f64</td><td>str</td><td>i64</td><td>str</td><td>str</td><td>str</td><td>i64</td><td>i64</td><td>str</td><td>str</td><td>str</td><td>str</td><td>str</td><td>i64</td><td>str</td><td>str</td><td>str</td><td>str</td><td>str</td><td>str</td><td>str</td><td>i64</td><td>i64</td><td>i64</td><td>list[f64]</td><td>str</td></tr></thead><tbody><tr><td>3757940104</td><td>553718</td><td>&quot;Hearing Care P…</td><td>&quot;Overview\n",
       "\n",
       "Hear…</td><td>null</td><td>5250.0</td><td>null</td><td>&quot;MONTHLY&quot;</td><td>&quot;Full-time&quot;</td><td>&quot;Little River, …</td><td>&quot;SC&quot;</td><td>null</td><td>1.7000e12</td><td>null</td><td>9</td><td>&quot;https://www.li…</td><td>&quot;https://career…</td><td>&quot;OffsiteApply&quot;</td><td>1.7000e12</td><td>null</td><td>&quot;Entry level&quot;</td><td>null</td><td>1.7000e12</td><td>&quot;careers-demant…</td><td>0</td><td>&quot;FULL_TIME&quot;</td><td>&quot;USD&quot;</td><td>&quot;BASE_SALARY&quot;</td><td>1699138101</td><td>17</td><td>&quot;Medical Equipm…</td><td>&quot;OTHR&quot;</td><td>&quot;Other&quot;</td><td>&quot;HearingLife&quot;</td><td>&quot;HearingLife is…</td><td>5</td><td>&quot;New Jersey&quot;</td><td>&quot;US&quot;</td><td>&quot;Somerset&quot;</td><td>&quot;8873&quot;</td><td>&quot;580 Howard Ave…</td><td>&quot;https://www.li…</td><td>&quot;Retail&quot;</td><td>1171</td><td>11417</td><td>1699131481</td><td>[0.437406, 0.201353, … -0.396777]</td><td>&quot;Demant Group;H…</td></tr><tr><td>3757940025</td><td>2192142</td><td>&quot;Shipping &amp; Rec…</td><td>&quot;Metalcraft of …</td><td>null</td><td>null</td><td>null</td><td>null</td><td>&quot;Full-time&quot;</td><td>&quot;Beaver Dam, WI…</td><td>&quot;WI&quot;</td><td>null</td><td>1.7000e12</td><td>null</td><td>null</td><td>&quot;https://www.li…</td><td>&quot;https://www.cl…</td><td>&quot;OffsiteApply&quot;</td><td>1.7000e12</td><td>null</td><td>null</td><td>null</td><td>1.7000e12</td><td>&quot;www.click2appl…</td><td>0</td><td>&quot;FULL_TIME&quot;</td><td>null</td><td>null</td><td>1699085420</td><td>135</td><td>&quot;Industrial Mac…</td><td>&quot;MGMT&quot;</td><td>&quot;Management&quot;</td><td>&quot;Metalcraft of …</td><td>&quot;Headquartered …</td><td>4</td><td>&quot;WI&quot;</td><td>&quot;US&quot;</td><td>&quot;Mayville&quot;</td><td>&quot;53050&quot;</td><td>&quot;1000 Metalcraf…</td><td>&quot;https://www.li…</td><td>&quot;Industrial Mac…</td><td>300</td><td>2923</td><td>1699085420</td><td>[0.146735, 0.7893, … -0.224941]</td><td>&quot;Lean manufactu…</td></tr><tr><td>3757938019</td><td>474443</td><td>&quot;Manager, Engin…</td><td>&quot;\n",
       "The TSUBAKI n…</td><td>null</td><td>null</td><td>null</td><td>null</td><td>&quot;Full-time&quot;</td><td>&quot;Bessemer, AL&quot;</td><td>&quot;AL&quot;</td><td>null</td><td>1.7000e12</td><td>null</td><td>null</td><td>&quot;https://www.li…</td><td>&quot;https://www.cl…</td><td>&quot;OffsiteApply&quot;</td><td>1.7000e12</td><td>null</td><td>null</td><td>&quot;Bachelor&#x27;s Deg…</td><td>1.7000e12</td><td>&quot;www.click2appl…</td><td>0</td><td>&quot;FULL_TIME&quot;</td><td>null</td><td>null</td><td>1699085644</td><td>147</td><td>&quot;Automation Mac…</td><td>&quot;ENG&quot;</td><td>&quot;Engineering&quot;</td><td>&quot;U.S. Tsubaki P…</td><td>&quot;U.S. Tsubaki P…</td><td>4</td><td>&quot;Illinois&quot;</td><td>&quot;US&quot;</td><td>&quot;Wheeling&quot;</td><td>&quot;60090&quot;</td><td>&quot;301E Marquardt…</td><td>&quot;https://www.li…</td><td>&quot;Automation Mac…</td><td>314</td><td>8487</td><td>1699085644</td><td>[0.062573, 0.603351, … -0.013101]</td><td>&quot;SU;automotive …</td></tr><tr><td>3757938018</td><td>18213359</td><td>&quot;Cook&quot;</td><td>&quot;descriptionTit…</td><td>null</td><td>22.27</td><td>null</td><td>&quot;HOURLY&quot;</td><td>&quot;Full-time&quot;</td><td>&quot;Aliso Viejo, C…</td><td>&quot;CA&quot;</td><td>null</td><td>1.7000e12</td><td>null</td><td>1</td><td>&quot;https://www.li…</td><td>&quot;https://jobs.a…</td><td>&quot;OffsiteApply&quot;</td><td>1.7000e12</td><td>null</td><td>&quot;Entry level&quot;</td><td>null</td><td>1.7000e12</td><td>&quot;jobs.apploi.co…</td><td>0</td><td>&quot;FULL_TIME&quot;</td><td>&quot;USD&quot;</td><td>&quot;BASE_SALARY&quot;</td><td>1699087461</td><td>100</td><td>&quot;Non-profit Org…</td><td>&quot;MGMT&quot;</td><td>&quot;Management&quot;</td><td>&quot;Episcopal Comm…</td><td>&quot;Episcopal Comm…</td><td>4</td><td>&quot;California&quot;</td><td>&quot;US&quot;</td><td>&quot;Altadena&quot;</td><td>&quot;91001&quot;</td><td>&quot;2212 El Molino…</td><td>&quot;https://www.li…</td><td>&quot;Non-profit Org…</td><td>36</td><td>305</td><td>1692863696</td><td>[-0.176124, 0.375635, … -0.442146]</td><td>&quot;Covington;The;…</td></tr><tr><td>3757937095</td><td>437225</td><td>&quot;Principal Clou…</td><td>&quot;Job Summary\n",
       "At…</td><td>275834.0</td><td>null</td><td>205956.0</td><td>&quot;YEARLY&quot;</td><td>&quot;Full-time&quot;</td><td>&quot;United States&quot;</td><td>&quot;US&quot;</td><td>null</td><td>1.7000e12</td><td>1</td><td>null</td><td>&quot;https://www.li…</td><td>&quot;https://career…</td><td>&quot;OffsiteApply&quot;</td><td>1.7000e12</td><td>null</td><td>&quot;Mid-Senior lev…</td><td>null</td><td>1.7000e12</td><td>&quot;careers.iherb.…</td><td>0</td><td>&quot;FULL_TIME&quot;</td><td>&quot;USD&quot;</td><td>&quot;BASE_SALARY&quot;</td><td>1699085346</td><td>27</td><td>&quot;Retail&quot;</td><td>&quot;IT&quot;</td><td>&quot;Information Te…</td><td>&quot;iHerb, LLC&quot;</td><td>&quot;iHerb is on a …</td><td>5</td><td>&quot;California&quot;</td><td>&quot;US&quot;</td><td>&quot;Irvine&quot;</td><td>&quot;92618&quot;</td><td>&quot;17400 Laguna C…</td><td>&quot;https://www.li…</td><td>&quot;Retail&quot;</td><td>1227</td><td>51933</td><td>1692863726</td><td>[-0.300732, 0.269816, … -0.227037]</td><td>&quot;Amazon Web Ser…</td></tr><tr><td>&hellip;</td><td>&hellip;</td><td>&hellip;</td><td>&hellip;</td><td>&hellip;</td><td>&hellip;</td><td>&hellip;</td><td>&hellip;</td><td>&hellip;</td><td>&hellip;</td><td>&hellip;</td><td>&hellip;</td><td>&hellip;</td><td>&hellip;</td><td>&hellip;</td><td>&hellip;</td><td>&hellip;</td><td>&hellip;</td><td>&hellip;</td><td>&hellip;</td><td>&hellip;</td><td>&hellip;</td><td>&hellip;</td><td>&hellip;</td><td>&hellip;</td><td>&hellip;</td><td>&hellip;</td><td>&hellip;</td><td>&hellip;</td><td>&hellip;</td><td>&hellip;</td><td>&hellip;</td><td>&hellip;</td><td>&hellip;</td><td>&hellip;</td><td>&hellip;</td><td>&hellip;</td><td>&hellip;</td><td>&hellip;</td><td>&hellip;</td><td>&hellip;</td><td>&hellip;</td><td>&hellip;</td><td>&hellip;</td><td>&hellip;</td><td>&hellip;</td><td>&hellip;</td><td>&hellip;</td></tr><tr><td>3757930108</td><td>73013724</td><td>&quot;Sales Manager&quot;</td><td>&quot;Position Summa…</td><td>350000.0</td><td>null</td><td>125000.0</td><td>&quot;YEARLY&quot;</td><td>&quot;Full-time&quot;</td><td>&quot;Poughkeepsie, …</td><td>&quot;NY&quot;</td><td>null</td><td>1.7000e12</td><td>1</td><td>null</td><td>&quot;https://www.li…</td><td>null</td><td>&quot;ComplexOnsiteA…</td><td>1.7000e12</td><td>null</td><td>&quot;Mid-Senior lev…</td><td>null</td><td>1.7000e12</td><td>null</td><td>0</td><td>&quot;FULL_TIME&quot;</td><td>&quot;USD&quot;</td><td>&quot;BASE_SALARY&quot;</td><td>1699131404</td><td>43</td><td>&quot;Financial Serv…</td><td>&quot;SALE&quot;</td><td>&quot;Sales&quot;</td><td>&quot;J. Galt&quot;</td><td>&quot;Our mission is…</td><td>3</td><td>&quot;Indiana&quot;</td><td>&quot;US&quot;</td><td>&quot;Indianapolis&quot;</td><td>&quot;46268&quot;</td><td>&quot;3500 Depauw Bl…</td><td>&quot;https://www.li…</td><td>&quot;Financial Serv…</td><td>251</td><td>28671</td><td>1692684533</td><td>[-0.483471, 0.56759, … -0.581419]</td><td>&quot;consulting ser…</td></tr><tr><td>3757929978</td><td>3603539</td><td>&quot;Maintenance Te…</td><td>&quot;Job Type\n",
       "\n",
       "Full…</td><td>null</td><td>null</td><td>null</td><td>null</td><td>&quot;Full-time&quot;</td><td>&quot;Milwaukee, WI&quot;</td><td>&quot;WI&quot;</td><td>null</td><td>1.7000e12</td><td>null</td><td>null</td><td>&quot;https://www.li…</td><td>&quot;https://recrui…</td><td>&quot;OffsiteApply&quot;</td><td>1.7000e12</td><td>null</td><td>&quot;Entry level&quot;</td><td>null</td><td>1.7000e12</td><td>&quot;recruiting.pay…</td><td>0</td><td>&quot;FULL_TIME&quot;</td><td>null</td><td>null</td><td>1699131782</td><td>44</td><td>&quot;Real Estate&quot;</td><td>&quot;MGMT&quot;</td><td>&quot;Management&quot;</td><td>&quot;Roers Companie…</td><td>&quot;Roers Companie…</td><td>3</td><td>&quot;Minnesota&quot;</td><td>&quot;US&quot;</td><td>&quot;Plymouth&quot;</td><td>&quot;55447&quot;</td><td>&quot;Two Carlson Pa…</td><td>&quot;https://www.li…</td><td>&quot;Real Estate&quot;</td><td>193</td><td>6680</td><td>1699131782</td><td>[0.212587, 0.508245, … -0.447771]</td><td>&quot;Community With…</td></tr><tr><td>3757929967</td><td>6577380</td><td>&quot;CDL Class A Dr…</td><td>&quot;We are looking…</td><td>null</td><td>28.0</td><td>null</td><td>&quot;HOURLY&quot;</td><td>&quot;Full-time&quot;</td><td>&quot;Oakland, CA&quot;</td><td>&quot;CA&quot;</td><td>null</td><td>1.7000e12</td><td>null</td><td>null</td><td>&quot;https://www.li…</td><td>&quot;https://recrui…</td><td>&quot;OffsiteApply&quot;</td><td>1.7000e12</td><td>null</td><td>null</td><td>null</td><td>1.7000e12</td><td>&quot;recruit.zoho.c…</td><td>0</td><td>&quot;FULL_TIME&quot;</td><td>&quot;USD&quot;</td><td>&quot;BASE_SALARY&quot;</td><td>1699137050</td><td>92</td><td>&quot;Truck Transpor…</td><td>&quot;MGMT&quot;</td><td>&quot;Management&quot;</td><td>&quot;Conexwest&quot;</td><td>&quot;Conexwest is t…</td><td>2</td><td>&quot;California&quot;</td><td>&quot;US&quot;</td><td>&quot;Oakland&quot;</td><td>&quot;94607&quot;</td><td>&quot;2100 Engineer …</td><td>&quot;https://www.li…</td><td>&quot;Retail Office …</td><td>48</td><td>2848</td><td>1699084529</td><td>[-0.130982, 0.256337, … -0.668071]</td><td>&quot;Disability ins…</td></tr><tr><td>3757929959</td><td>73013724</td><td>&quot;Sales Manager&quot;</td><td>&quot;Position Summa…</td><td>350000.0</td><td>null</td><td>125000.0</td><td>&quot;YEARLY&quot;</td><td>&quot;Full-time&quot;</td><td>&quot;Winchester, VA…</td><td>&quot;VA&quot;</td><td>null</td><td>1.7000e12</td><td>1</td><td>null</td><td>&quot;https://www.li…</td><td>null</td><td>&quot;ComplexOnsiteA…</td><td>1.7000e12</td><td>null</td><td>&quot;Mid-Senior lev…</td><td>null</td><td>1.7000e12</td><td>null</td><td>0</td><td>&quot;FULL_TIME&quot;</td><td>&quot;USD&quot;</td><td>&quot;BASE_SALARY&quot;</td><td>1699087166</td><td>43</td><td>&quot;Financial Serv…</td><td>&quot;SALE&quot;</td><td>&quot;Sales&quot;</td><td>&quot;J. Galt&quot;</td><td>&quot;Our mission is…</td><td>3</td><td>&quot;Indiana&quot;</td><td>&quot;US&quot;</td><td>&quot;Indianapolis&quot;</td><td>&quot;46268&quot;</td><td>&quot;3500 Depauw Bl…</td><td>&quot;https://www.li…</td><td>&quot;Financial Serv…</td><td>251</td><td>28671</td><td>1692684533</td><td>[-0.483471, 0.56759, … -0.581419]</td><td>&quot;consulting ser…</td></tr><tr><td>3757929946</td><td>79098833</td><td>&quot;Mental Health …</td><td>&quot;5000 Hiring Bo…</td><td>null</td><td>null</td><td>null</td><td>null</td><td>&quot;Full-time&quot;</td><td>&quot;Omaha, NE&quot;</td><td>&quot;NE&quot;</td><td>1</td><td>1.7000e12</td><td>null</td><td>2</td><td>&quot;https://www.li…</td><td>null</td><td>&quot;ComplexOnsiteA…</td><td>1.7000e12</td><td>null</td><td>null</td><td>null</td><td>1.7000e12</td><td>null</td><td>0</td><td>&quot;FULL_TIME&quot;</td><td>null</td><td>null</td><td>1699139752</td><td>139</td><td>&quot;Mental Health …</td><td>&quot;HCPR&quot;</td><td>&quot;Health Care Pr…</td><td>&quot;Vertivert Inc&quot;</td><td>&quot;End to End rec…</td><td>1</td><td>&quot;California&quot;</td><td>&quot;US&quot;</td><td>&quot;Fremont&quot;</td><td>&quot;94538&quot;</td><td>&quot;Dickenson Comm…</td><td>&quot;https://www.li…</td><td>&quot;Outsourcing an…</td><td>3</td><td>14144</td><td>1699081049</td><td>[-0.125674, 0.618085, … -0.335239]</td><td>&quot;Compensation;J…</td></tr></tbody></table></div>"
      ],
      "text/plain": [
       "shape: (100, 48)\n",
       "┌───────────┬───────────┬───────────┬───────────┬───┬───────────┬───────────┬───────────┬──────────┐\n",
       "│ job_id    ┆ company_i ┆ title     ┆ descripti ┆ … ┆ company_f ┆ company_t ┆ Encoding  ┆ Keyphras │\n",
       "│ ---       ┆ d         ┆ ---       ┆ on        ┆   ┆ ollower_c ┆ ime_recor ┆ ---       ┆ es       │\n",
       "│ i64       ┆ ---       ┆ str       ┆ ---       ┆   ┆ ount      ┆ ded       ┆ list[f64] ┆ ---      │\n",
       "│           ┆ i64       ┆           ┆ str       ┆   ┆ ---       ┆ ---       ┆           ┆ str      │\n",
       "│           ┆           ┆           ┆           ┆   ┆ i64       ┆ i64       ┆           ┆          │\n",
       "╞═══════════╪═══════════╪═══════════╪═══════════╪═══╪═══════════╪═══════════╪═══════════╪══════════╡\n",
       "│ 375794010 ┆ 553718    ┆ Hearing   ┆ Overview  ┆ … ┆ 11417     ┆ 169913148 ┆ [0.437406 ┆ Demant   │\n",
       "│ 4         ┆           ┆ Care      ┆           ┆   ┆           ┆ 1         ┆ ,         ┆ Group;He │\n",
       "│           ┆           ┆ Provider  ┆ HearingLi ┆   ┆           ┆           ┆ 0.201353, ┆ aring    │\n",
       "│           ┆           ┆           ┆ fe is a   ┆   ┆           ┆           ┆ … -0.3967 ┆ Aid      │\n",
       "│           ┆           ┆           ┆ natio…    ┆   ┆           ┆           ┆ 77…       ┆ Dispens… │\n",
       "│ 375794002 ┆ 2192142   ┆ Shipping  ┆ Metalcraf ┆ … ┆ 2923      ┆ 169908542 ┆ [0.146735 ┆ Lean man │\n",
       "│ 5         ┆           ┆ &         ┆ t of      ┆   ┆           ┆ 0         ┆ , 0.7893, ┆ ufacturi │\n",
       "│           ┆           ┆ Receiving ┆ Mayville  ┆   ┆           ┆           ┆ … -0.2249 ┆ ng envir │\n",
       "│           ┆           ┆ Associate ┆ Metalcraf ┆   ┆           ┆           ┆ 41]       ┆ onment;M │\n",
       "│           ┆           ┆ 2…        ┆ …         ┆   ┆           ┆           ┆           ┆ …        │\n",
       "│ 375793801 ┆ 474443    ┆ Manager,  ┆           ┆ … ┆ 8487      ┆ 169908564 ┆ [0.062573 ┆ SU;autom │\n",
       "│ 9         ┆           ┆ Engineeri ┆ The       ┆   ┆           ┆ 4         ┆ ,         ┆ otive    │\n",
       "│           ┆           ┆ ng        ┆ TSUBAKI   ┆   ┆           ┆           ┆ 0.603351, ┆ conveyan │\n",
       "│           ┆           ┆           ┆ name is   ┆   ┆           ┆           ┆ … -0.0131 ┆ ce       │\n",
       "│           ┆           ┆           ┆ synonymou ┆   ┆           ┆           ┆ 01…       ┆ systems… │\n",
       "│           ┆           ┆           ┆ s …       ┆   ┆           ┆           ┆           ┆          │\n",
       "│ 375793801 ┆ 18213359  ┆ Cook      ┆ descripti ┆ … ┆ 305       ┆ 169286369 ┆ [-0.17612 ┆ Covingto │\n",
       "│ 8         ┆           ┆           ┆ onTitle   ┆   ┆           ┆ 6         ┆ 4,        ┆ n;The;at │\n",
       "│           ┆           ┆           ┆           ┆   ┆           ┆           ┆ 0.375635, ┆ ing;cold │\n",
       "│           ┆           ┆           ┆ Looking   ┆   ┆           ┆           ┆ …         ┆ food it… │\n",
       "│           ┆           ┆           ┆ for a…    ┆   ┆           ┆           ┆ -0.44214… ┆          │\n",
       "│ 375793709 ┆ 437225    ┆ Principal ┆ Job       ┆ … ┆ 51933     ┆ 169286372 ┆ [-0.30073 ┆ Amazon   │\n",
       "│ 5         ┆           ┆ Cloud     ┆ Summary   ┆   ┆           ┆ 6         ┆ 2,        ┆ Web Serv │\n",
       "│           ┆           ┆ Security  ┆ At iHerb, ┆   ┆           ┆           ┆ 0.269816, ┆ ices;Clo │\n",
       "│           ┆           ┆ Archite…  ┆ we are on ┆   ┆           ┆           ┆ …         ┆ ud       │\n",
       "│           ┆           ┆           ┆ …         ┆   ┆           ┆           ┆ -0.22703… ┆ Operat…  │\n",
       "│ …         ┆ …         ┆ …         ┆ …         ┆ … ┆ …         ┆ …         ┆ …         ┆ …        │\n",
       "│ 375793010 ┆ 73013724  ┆ Sales     ┆ Position  ┆ … ┆ 28671     ┆ 169268453 ┆ [-0.48347 ┆ consulti │\n",
       "│ 8         ┆           ┆ Manager   ┆ Summary:  ┆   ┆           ┆ 3         ┆ 1,        ┆ ng servi │\n",
       "│           ┆           ┆           ┆ Our Sales ┆   ┆           ┆           ┆ 0.56759,  ┆ ces;mark │\n",
       "│           ┆           ┆           ┆ Mana…     ┆   ┆           ┆           ┆ … -0.5814 ┆ eting;ti │\n",
       "│           ┆           ┆           ┆           ┆   ┆           ┆           ┆ 19…       ┆ …        │\n",
       "│ 375792997 ┆ 3603539   ┆ Maintenan ┆ Job Type  ┆ … ┆ 6680      ┆ 169913178 ┆ [0.212587 ┆ Communit │\n",
       "│ 8         ┆           ┆ ce Techni ┆           ┆   ┆           ┆ 2         ┆ ,         ┆ y Within │\n",
       "│           ┆           ┆ cian -    ┆ Full-time ┆   ┆           ┆           ┆ 0.508245, ┆ the Corr │\n",
       "│           ┆           ┆ CWC       ┆           ┆   ┆           ┆           ┆ … -0.4477 ┆ idor;Ma… │\n",
       "│           ┆           ┆           ┆ Descripti ┆   ┆           ┆           ┆ 71…       ┆          │\n",
       "│           ┆           ┆           ┆ on…       ┆   ┆           ┆           ┆           ┆          │\n",
       "│ 375792996 ┆ 6577380   ┆ CDL Class ┆ We are    ┆ … ┆ 2848      ┆ 169908452 ┆ [-0.13098 ┆ Disabili │\n",
       "│ 7         ┆           ┆ A Driver  ┆ looking   ┆   ┆           ┆ 9         ┆ 2,        ┆ ty insur │\n",
       "│           ┆           ┆           ┆ for       ┆   ┆           ┆           ┆ 0.256337, ┆ ance;Hea │\n",
       "│           ┆           ┆           ┆ punctual  ┆   ┆           ┆           ┆ …         ┆ lth      │\n",
       "│           ┆           ┆           ┆ driv…     ┆   ┆           ┆           ┆ -0.66807… ┆ bene…    │\n",
       "│ 375792995 ┆ 73013724  ┆ Sales     ┆ Position  ┆ … ┆ 28671     ┆ 169268453 ┆ [-0.48347 ┆ consulti │\n",
       "│ 9         ┆           ┆ Manager   ┆ Summary:  ┆   ┆           ┆ 3         ┆ 1,        ┆ ng servi │\n",
       "│           ┆           ┆           ┆ Our Sales ┆   ┆           ┆           ┆ 0.56759,  ┆ ces;mark │\n",
       "│           ┆           ┆           ┆ Mana…     ┆   ┆           ┆           ┆ … -0.5814 ┆ eting;ti │\n",
       "│           ┆           ┆           ┆           ┆   ┆           ┆           ┆ 19…       ┆ …        │\n",
       "│ 375792994 ┆ 79098833  ┆ Mental    ┆ 5000      ┆ … ┆ 14144     ┆ 169908104 ┆ [-0.12567 ┆ Compensa │\n",
       "│ 6         ┆           ┆ Health    ┆ Hiring    ┆   ┆           ┆ 9         ┆ 4,        ┆ tion;Job │\n",
       "│           ┆           ┆ Therapist ┆ Bonus     ┆   ┆           ┆           ┆ 0.618085, ┆ Requirem │\n",
       "│           ┆           ┆ [5161]    ┆ Offered   ┆   ┆           ┆           ┆ …         ┆ ents;Me… │\n",
       "│           ┆           ┆           ┆ For Fu…   ┆   ┆           ┆           ┆ -0.33523… ┆          │\n",
       "└───────────┴───────────┴───────────┴───────────┴───┴───────────┴───────────┴───────────┴──────────┘"
      ]
     },
     "execution_count": 6,
     "metadata": {},
     "output_type": "execute_result"
    }
   ],
   "source": [
    "collected = new_df.collect()\n",
    "collected"
   ]
  },
  {
   "cell_type": "code",
   "execution_count": 7,
   "metadata": {},
   "outputs": [],
   "source": [
    "collected.write_parquet('processed.parquet')"
   ]
  },
  {
   "cell_type": "code",
   "execution_count": null,
   "metadata": {},
   "outputs": [],
   "source": []
  }
 ],
 "metadata": {
  "kernelspec": {
   "display_name": "rl",
   "language": "python",
   "name": "python3"
  },
  "language_info": {
   "codemirror_mode": {
    "name": "ipython",
    "version": 3
   },
   "file_extension": ".py",
   "mimetype": "text/x-python",
   "name": "python",
   "nbconvert_exporter": "python",
   "pygments_lexer": "ipython3",
   "version": "3.11.3"
  }
 },
 "nbformat": 4,
 "nbformat_minor": 2
}
